{
 "cells": [
  {
   "cell_type": "code",
   "outputs": [
    {
     "name": "stderr",
     "output_type": "stream",
     "text": [
      "[DEBUG] 2025-08-03 15:15:06,656 deeplotx.embedding : LongformerEncoder initialized on device: cuda.\n"
     ]
    }
   ],
   "source": [
    "from deeplotx import SoftmaxRegression, LongformerEncoder\n",
    "from util import NUM_CLASSES\n",
    "lf_encoder = LongformerEncoder(model_name_or_path='severinsimmler/xlm-roberta-longformer-base-16384')"
   ],
   "metadata": {
    "collapsed": false,
    "ExecuteTime": {
     "end_time": "2025-08-03T07:15:06.673238Z",
     "start_time": "2025-08-03T07:14:49.472210Z"
    }
   },
   "id": "f7fac354f36a88bc",
   "execution_count": 1
  },
  {
   "cell_type": "code",
   "outputs": [],
   "source": [
    "import torch\n",
    "from deeplotx.util import sha256\n",
    "from vortezwohl.cache import LRUCache\n",
    "\n",
    "CACHE = LRUCache(capacity=16384)\n",
    "\n",
    "def encode(text: str) -> torch.Tensor:\n",
    "    key = sha256(text)\n",
    "    if key in CACHE:\n",
    "        return CACHE[key]\n",
    "    emb = lf_encoder.encode(text, cls_only=False).mean(dim=-2, dtype=model.dtype)\n",
    "    CACHE[key] = emb\n",
    "    return emb"
   ],
   "metadata": {
    "collapsed": false,
    "ExecuteTime": {
     "end_time": "2025-08-03T07:15:06.689235Z",
     "start_time": "2025-08-03T07:15:06.675236Z"
    }
   },
   "id": "9eaf6bf7092cb96d",
   "execution_count": 2
  },
  {
   "cell_type": "code",
   "outputs": [
    {
     "name": "stdout",
     "output_type": "stream",
     "text": [
      "Dataset shuffled [['RSI LA1', 2], ['Frosolone', 3], ['estende', 0], ['Grant', 1], ['Beaurains', 3], ['attristé', 0], ['Nankin', 3], ['Salvatore Aurelio', 1], ['Disentis', 3], ['passo del Grimsel', 3], ['Hodotermidae', 4], ['Ангарский Ермак', 2], ['come loro leader', 4], ['West Germany', 3], ['Eastwell Park', 3], ['précipitations occasionnelles', 3], ['Pirgos', 3], ['Bacchanalia', 4], ['Dallas en ,', 2], ['Manuel Pérez Barriopedro', 1], ['SIXAXIS', 4], ['Battle of Salamis', 4], ['LNA', 2]]\n"
     ]
    }
   ],
   "source": [
    "import json\n",
    "from random import shuffle\n",
    "\n",
    "with open('./data/datasets.json', 'r', encoding='utf-8') as f:\n",
    "    datasets = json.load(f)\n",
    "    \n",
    "train_dataset = datasets['train']\n",
    "valid_dataset = datasets['valid']\n",
    "test_dataset = datasets['test']\n",
    "    \n",
    "shuffle(train_dataset)\n",
    "shuffle(valid_dataset)\n",
    "shuffle(test_dataset)\n",
    "print('Dataset shuffled', list(train_dataset[:23]))"
   ],
   "metadata": {
    "collapsed": false,
    "ExecuteTime": {
     "end_time": "2025-08-03T07:15:54.989669Z",
     "start_time": "2025-08-03T07:15:50.933181Z"
    }
   },
   "id": "85a0011256406ea0",
   "execution_count": 4
  },
  {
   "cell_type": "markdown",
   "source": [
    "## 训练"
   ],
   "metadata": {
    "collapsed": false
   },
   "id": "90ca149f740c3ba0"
  },
  {
   "cell_type": "code",
   "outputs": [],
   "source": [
    "model = SoftmaxRegression(input_dim=768, output_dim=NUM_CLASSES, num_heads=4, num_layers=3, expansion_factor=1.25, bias=True, dropout_rate=0.2, head_layers=2)\n",
    "print(model)"
   ],
   "metadata": {
    "collapsed": false
   },
   "id": "6b1a645e6818b884",
   "execution_count": null
  },
  {
   "cell_type": "code",
   "outputs": [],
   "source": [
    "# train\n",
    "from torch import nn, optim\n",
    "from torch.utils.tensorboard import SummaryWriter"
   ],
   "metadata": {
    "collapsed": false,
    "ExecuteTime": {
     "end_time": "2025-08-03T07:08:06.100007Z",
     "start_time": "2025-08-03T07:08:06.086009Z"
    }
   },
   "id": "4bfa8215ab0135b",
   "execution_count": 37
  },
  {
   "cell_type": "code",
   "outputs": [],
   "source": [
    "train_step = 0\n",
    "valid_step = 0\n",
    "writer = SummaryWriter()\n",
    "\n",
    "acc_train_loss = 0.\n",
    "acc_valid_loss = 0.\n",
    "eval_interval = 2000\n",
    "log_interval = 200\n",
    "valid_log_interval = 50"
   ],
   "metadata": {
    "collapsed": false,
    "ExecuteTime": {
     "end_time": "2025-08-03T07:08:08.459016Z",
     "start_time": "2025-08-03T07:08:08.441011Z"
    }
   },
   "id": "26fe594efd09342c",
   "execution_count": 38
  },
  {
   "cell_type": "code",
   "outputs": [],
   "source": [
    "from random import randint\n",
    "from util import one_hot\n",
    "\n",
    "elastic_net_param = {\n",
    "    'alpha': 2e-4,\n",
    "    'rho': 0.2\n",
    "}\n",
    "learning_rate = 2e-6\n",
    "num_epochs = 1500\n",
    "loss_function = nn.CrossEntropyLoss()\n",
    "optimizer = optim.Adam(model.parameters(), lr=learning_rate)\n",
    "for epoch in range(num_epochs):\n",
    "    model.train()\n",
    "    for i, (_token, _label) in enumerate(train_dataset):\n",
    "        _one_hot_label = one_hot(_label).to(model.dtype).to(model.device)\n",
    "        outputs = model.forward(encode(_token))\n",
    "        loss = loss_function(outputs, _one_hot_label) + model.elastic_net(alpha=elastic_net_param['alpha'], rho=elastic_net_param['rho'])\n",
    "        acc_train_loss += loss.item()\n",
    "        optimizer.zero_grad()\n",
    "        loss.backward()\n",
    "        optimizer.step()\n",
    "        if train_step % log_interval == 0 and train_step > 0:\n",
    "            writer.add_scalar('train/loss', acc_train_loss / log_interval, train_step)\n",
    "            print(f'- Train Step {train_step} Loss {acc_train_loss / log_interval} \\\\'\n",
    "                  f'\\nToken={_token}'\n",
    "                  f'\\nPred={outputs.tolist()}'\n",
    "                  f'\\nLabel={_one_hot_label.tolist()}', flush=True)\n",
    "            acc_train_loss = 0.\n",
    "        train_step += 1\n",
    "        if train_step % eval_interval == 0:\n",
    "            model.eval()\n",
    "            rand_idx = randint(0, len(valid_dataset) - 501)\n",
    "            with torch.no_grad():\n",
    "                for _i, (__token, __label) in enumerate(valid_dataset[rand_idx: rand_idx + 500]):\n",
    "                    _one_hot_label = one_hot(__label).to(model.dtype).to(model.device)\n",
    "                    outputs = model.forward(encode(__token))\n",
    "                    loss = loss_function(outputs, _one_hot_label)\n",
    "                    acc_valid_loss += loss.item()\n",
    "                    if valid_step % valid_log_interval == 0 and valid_step > 0:\n",
    "                        writer.add_scalar('valid/loss', acc_valid_loss / valid_log_interval, valid_step)\n",
    "                        print(f'- Valid Step {valid_step} Loss {acc_valid_loss / valid_log_interval} \\\\'\n",
    "                              f'\\nToken={__token}'\n",
    "                              f'\\nPred={outputs.tolist()}'\n",
    "                              f'\\nLabel={_one_hot_label.tolist()}', flush=True)\n",
    "                        acc_valid_loss = 0.\n",
    "                    valid_step += 1\n",
    "            model.train()"
   ],
   "metadata": {
    "collapsed": false
   },
   "id": "9bb8c54cf0d8705c",
   "execution_count": null
  },
  {
   "cell_type": "code",
   "outputs": [],
   "source": [
    "model.eval()\n",
    "test_tokens = ['Mike', 'John', 'Smith', 'London', 'NYC', 'HongKong', 'China', 'South Africa', 'Korea']\n",
    "with torch.no_grad():\n",
    "    for _tok in test_tokens:\n",
    "        _dist = model.forward(encode(_tok))\n",
    "        print(f'Token={_tok}, Class={torch.argmax(_dist)}', flush=True)\n",
    "model.train()\n",
    "'Test finished.'"
   ],
   "metadata": {
    "collapsed": false
   },
   "id": "683889b3c2e6c744",
   "execution_count": null
  }
 ],
 "metadata": {
  "kernelspec": {
   "display_name": "Python 3",
   "language": "python",
   "name": "python3"
  },
  "language_info": {
   "codemirror_mode": {
    "name": "ipython",
    "version": 2
   },
   "file_extension": ".py",
   "mimetype": "text/x-python",
   "name": "python",
   "nbconvert_exporter": "python",
   "pygments_lexer": "ipython2",
   "version": "2.7.6"
  }
 },
 "nbformat": 4,
 "nbformat_minor": 5
}
