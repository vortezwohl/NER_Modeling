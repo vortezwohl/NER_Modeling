{
 "cells": [
  {
   "cell_type": "code",
   "outputs": [
    {
     "name": "stderr",
     "output_type": "stream",
     "text": [
      "[DEBUG] 2025-08-02 23:46:23,989 deeplotx.embedding : LongformerEncoder initialized on device: cuda.\n"
     ]
    }
   ],
   "source": [
    "from deeplotx import SoftmaxRegression, LongformerEncoder\n",
    "from util import NUM_CLASSES\n",
    "lf_encoder = LongformerEncoder(model_name_or_path='severinsimmler/xlm-roberta-longformer-base-16384')"
   ],
   "metadata": {
    "collapsed": false,
    "ExecuteTime": {
     "end_time": "2025-08-02T15:46:24.561485Z",
     "start_time": "2025-08-02T15:46:17.836981Z"
    }
   },
   "id": "f7fac354f36a88bc",
   "execution_count": 56
  },
  {
   "cell_type": "code",
   "outputs": [],
   "source": [
    "import torch\n",
    "from deeplotx.util import sha256\n",
    "from vortezwohl.cache import LRUCache\n",
    "\n",
    "CACHE = LRUCache(capacity=16384)\n",
    "\n",
    "def encode(text: str) -> torch.Tensor:\n",
    "    key = sha256(text)\n",
    "    if key in CACHE:\n",
    "        return CACHE[key]\n",
    "    emb = lf_encoder.encode(text, cls_only=False).mean(dim=-2, dtype=model.dtype)\n",
    "    CACHE[key] = emb\n",
    "    return emb"
   ],
   "metadata": {
    "collapsed": false,
    "ExecuteTime": {
     "end_time": "2025-08-02T15:46:24.577516Z",
     "start_time": "2025-08-02T15:46:24.563469Z"
    }
   },
   "id": "9eaf6bf7092cb96d",
   "execution_count": 57
  },
  {
   "cell_type": "code",
   "outputs": [],
   "source": [
    "import os\n",
    "import pandas as pd\n",
    "base_path = './data/multilingual_wikineural'\n",
    "languages = ['de', 'en', 'es', 'fr', 'it', 'nl', 'pl', 'pt', 'ru']\n",
    "train_data = dict()\n",
    "valid_data = dict()\n",
    "test_data = dict()\n",
    "for lang in languages:\n",
    "    train_data[lang] = pd.read_csv(os.path.join(base_path, f'train_{lang}.csv')).to_dict(orient='records')\n",
    "    valid_data[lang] = pd.read_csv(os.path.join(base_path, f'val_{lang}.csv')).to_dict(orient='records')\n",
    "    test_data[lang] = pd.read_csv(os.path.join(base_path, f'test_{lang}.csv')).to_dict(orient='records')"
   ],
   "metadata": {
    "collapsed": false,
    "ExecuteTime": {
     "end_time": "2025-08-02T15:46:34.256752Z",
     "start_time": "2025-08-02T15:46:24.579524Z"
    }
   },
   "id": "a7b644f0fd4d03be",
   "execution_count": 58
  },
  {
   "cell_type": "code",
   "outputs": [
    {
     "data": {
      "text/plain": "([(\"['Dieses' 'wiederum' 'basierte' 'auf' 'dem' 'gleichnamigen' 'Roman' 'von'\\n 'Noël' 'Calef' '.']\",\n   '[0 0 0 0 0 0 0 0 1 2 0]'),\n  (\"['Auf' 'Helgoland' 'starben' '2014' 'sieben' 'Jungvögel' 'und' 'fünf'\\n 'Altvögel' 'als' 'Verstrickungsopfer' '.']\",\n   '[0 5 0 0 0 0 0 0 0 0 0 0]')],\n [(\"['Die' 'Europameisterschaften' 'in' 'Dresden' 'schloss' 'sie' 'mit' 'dem'\\n 'zweiten' 'Platz' 'in' 'der' 'Gesamtwertung' 'ab' '.']\",\n   '[0 0 0 5 0 0 0 0 0 0 0 0 0 0 0]'),\n  ('[\\'Die\\' \\'Europameisterschaften\\' \\'im\\' \\'selben\\' \\'Jahr\\' \\'in\\' \\'Heerenveen\\'\\n \\'konnte\\' \\'sie\\' \\'mit\\' \\'dem\\' \\'Gewinn\\' \\'von\\' \\'vier\\' \\'Goldmedaillen\\' \\'(\\'\\n \\'1000\\' \\'\"\\' \\'m\\' \\',\\' \\'1500\\' \\'\"\\' \\'m\\' \\',\\' \\'3000\\' \\'\"\\' \\'m\\' \\',\\' \\'Gesamtwertung\\'\\n \\')\\' \\'deutlich\\' \\'für\\' \\'sich\\' \\'entscheiden\\' \\'.\\']',\n   '[0 0 0 0 0 0 5 0 0 0 0 0 0 0 0 0 0 0 0 0 0 0 0 0 0 0 0 0 0 0 0 0 0 0 0]')],\n [(\"['Er' 'erklärte' ',' 'dass' 'der' 'Allgemeine' 'Nationalkongress'\\n 'illegal' 'sei' ',' 'weil' 'das' 'Parlament' 'geduldet' 'hätte' ','\\n 'dass' 'Terroristen' 'in' 'Libyen' 'hätten' 'Fuß' 'fassen' 'können' '.']\",\n   '[0 0 0 0 0 0 0 0 0 0 0 0 0 0 0 0 0 0 0 5 0 0 0 0 0]'),\n  (\"['Die' 'Regierung' 'verhängte' 'daraufhin' 'eine' 'Flugverbotszone' 'über'\\n 'Bengasi' '.']\",\n   '[0 0 0 0 0 0 0 5 0]')])"
     },
     "execution_count": 59,
     "metadata": {},
     "output_type": "execute_result"
    }
   ],
   "source": [
    "total_train_data = []\n",
    "total_valid_data = []\n",
    "total_test_data = []\n",
    "for lang, data in train_data.items():\n",
    "    for d in data:\n",
    "        total_train_data.append((d['tokens'], d['ner_tags']))\n",
    "for lang, data in valid_data.items():\n",
    "    for d in data:\n",
    "        total_valid_data.append((d['tokens'], d['ner_tags']))\n",
    "for lang, data in test_data.items():\n",
    "    for d in data:\n",
    "        total_test_data.append((d['tokens'], d['ner_tags']))\n",
    "\n",
    "total_train_data[:2], total_valid_data[:2], total_test_data[:2]"
   ],
   "metadata": {
    "collapsed": false,
    "ExecuteTime": {
     "end_time": "2025-08-02T15:46:35.101481Z",
     "start_time": "2025-08-02T15:46:34.261271Z"
    }
   },
   "id": "57c633cc69971d5d",
   "execution_count": 59
  },
  {
   "cell_type": "code",
   "outputs": [
    {
     "name": "stdout",
     "output_type": "stream",
     "text": [
      "[('Dieses', 0), ('wiederum', 0), ('basierte', 0), ('auf', 0), ('dem', 0), ('gleichnamigen', 0), ('Roman', 0), ('von', 0), ('Noël', 1), ('Calef', 2), ('.', 0), ('Auf', 0), ('Helgoland', 5), ('starben', 0), ('2014', 0), ('sieben', 0), ('Jungvögel', 0), ('und', 0), ('fünf', 0), ('Altvögel', 0), ('als', 0), ('Verstrickungsopfer', 0), ('.', 0)]\n"
     ]
    },
    {
     "data": {
      "text/plain": "'17583063 tokens to train in total.'"
     },
     "execution_count": 60,
     "metadata": {},
     "output_type": "execute_result"
    }
   ],
   "source": [
    "train_dataset = {'token': [], 'label': []}\n",
    "valid_dataset = {'token': [], 'label': []}\n",
    "test_dataset = {'token': [], 'label': []}\n",
    "\n",
    "def token_decode(s: str) -> list:\n",
    "    return [_.strip().replace(\"'\", '').replace('[', '').replace(']', '') for _ in s.replace(\"' '\", '||').replace('\\n', '||').split('||')]\n",
    "\n",
    "def label_decode(s: str) -> list:\n",
    "    _labels = []\n",
    "    label_lists = token_decode(s)\n",
    "    for label_ls in label_lists:\n",
    "        _labels.extend([int(_) for _ in label_ls.split(' ')])\n",
    "    return _labels\n",
    "\n",
    "for tokens, labels in total_train_data:\n",
    "    tokens, labels = token_decode(tokens), label_decode(labels)\n",
    "    for token in tokens:\n",
    "        train_dataset['token'].append(token)\n",
    "    for label in labels:\n",
    "        train_dataset['label'].append(label)\n",
    "for tokens, labels in total_valid_data:\n",
    "    tokens, labels = token_decode(tokens), label_decode(labels)\n",
    "    for token in tokens:\n",
    "        valid_dataset['token'].append(token)\n",
    "    for label in labels:\n",
    "        valid_dataset['label'].append(label)\n",
    "for tokens, labels in total_test_data:\n",
    "    tokens, labels = token_decode(tokens), label_decode(labels)\n",
    "    for token in tokens:\n",
    "        test_dataset['token'].append(token)\n",
    "    for label in labels:\n",
    "        test_dataset['label'].append(label)\n",
    "\n",
    "print(list(zip(train_dataset['token'][:23], train_dataset['label'][:23])))\n",
    "f'{len(train_dataset[\"token\"])} tokens to train in total.'"
   ],
   "metadata": {
    "collapsed": false,
    "ExecuteTime": {
     "end_time": "2025-08-02T15:46:58.659218Z",
     "start_time": "2025-08-02T15:46:35.104995Z"
    }
   },
   "id": "5f0bb7bde96b730c",
   "execution_count": 60
  },
  {
   "cell_type": "markdown",
   "source": [
    "## 存储嵌入"
   ],
   "metadata": {
    "collapsed": false
   },
   "id": "1f84d8dd11e52c1c"
  },
  {
   "cell_type": "code",
   "outputs": [],
   "source": [
    "train_embeddings = []\n",
    "valid_embeddings = []\n",
    "test_embeddings = []\n",
    "for i, token in enumerate(train_dataset['token']):\n",
    "    # print(f'\\rTrainSet {i}/{len(train_dataset[\"token\"])}')\n",
    "    train_embeddings.append(encode(token))\n",
    "print('TrainSet done\\n')\n",
    "for i, token in enumerate(valid_dataset['token']):\n",
    "    # print(f'\\rValidSet {i}/{len(valid_dataset[\"token\"])}')\n",
    "    valid_embeddings.append(encode(token))\n",
    "print('ValidSet done\\n')\n",
    "for i, token in enumerate(test_dataset['token']):\n",
    "    # print(f'\\rTestSet {i}/{len(test_dataset[\"token\"])}')\n",
    "    test_embeddings.append(encode(token))\n",
    "print('TestSet done\\n')"
   ],
   "metadata": {
    "collapsed": false
   },
   "id": "c1195c6c9fe51ff5",
   "execution_count": null
  },
  {
   "cell_type": "code",
   "outputs": [],
   "source": [
    "import pickle\n",
    "\n",
    "with open('./data/multilingual_wikineural_processed/train.pkl', 'wb') as f:\n",
    "    _data = {\n",
    "        'tokens': train_dataset['token'],\n",
    "        'embeddings': train_embeddings,\n",
    "        'labels': train_dataset['label']\n",
    "    }\n",
    "    pickle.dump(_data, f)\n",
    "with open('./data/multilingual_wikineural_processed/valid.pkl', 'wb') as f:\n",
    "    _data = {\n",
    "        'tokens': valid_dataset['token'],\n",
    "        'embeddings': valid_embeddings,\n",
    "        'labels': valid_dataset['label']\n",
    "    }\n",
    "    pickle.dump(_data, f)\n",
    "with open('./data/multilingual_wikineural_processed/test.pkl', 'wb') as f:\n",
    "    _data = {\n",
    "        'tokens': test_dataset['token'],\n",
    "        'embeddings': test_embeddings,\n",
    "        'labels': test_dataset['label']\n",
    "    }\n",
    "    pickle.dump(_data, f)"
   ],
   "metadata": {
    "collapsed": false
   },
   "id": "83df3907a9693b92",
   "execution_count": null
  },
  {
   "cell_type": "markdown",
   "source": [
    "## 训练"
   ],
   "metadata": {
    "collapsed": false
   },
   "id": "90ca149f740c3ba0"
  },
  {
   "cell_type": "code",
   "outputs": [
    {
     "name": "stdout",
     "output_type": "stream",
     "text": [
      "===============================\n",
      "Model_Name: SoftmaxRegression\n",
      "In_Features: 768\n",
      "Out_Features: 9\n",
      "Device: cuda\n",
      "Dtype: torch.float32\n",
      "Total_Parameters: 49642017\n",
      "Trainable_Parameters: 49642017\n",
      "NonTrainable_Parameters: 0\n",
      "-------------------------------\n",
      "SoftmaxRegression(\n",
      "  (multi_head_ffn_layers): ModuleList(\n",
      "    (0-2): 3 x MultiHeadFeedForward(\n",
      "      (expand_proj): Linear(in_features=768, out_features=3072, bias=True)\n",
      "      (ffn_heads): ModuleList(\n",
      "        (0-3): 4 x FeedForward(\n",
      "          (ffn_layers): ModuleList(\n",
      "            (0-1): 2 x FeedForwardUnit(\n",
      "              (up_proj): Linear(in_features=768, out_features=960, bias=True)\n",
      "              (down_proj): Linear(in_features=960, out_features=768, bias=True)\n",
      "              (parametric_relu): PReLU(num_parameters=1)\n",
      "              (layer_norm): LayerNorm((768,), eps=1e-09, elementwise_affine=True)\n",
      "            )\n",
      "          )\n",
      "        )\n",
      "      )\n",
      "      (out_proj): Linear(in_features=3072, out_features=768, bias=True)\n",
      "    )\n",
      "  )\n",
      "  (out_proj): Linear(in_features=768, out_features=9, bias=True)\n",
      ")\n",
      "===============================\n"
     ]
    }
   ],
   "source": [
    "model = SoftmaxRegression(input_dim=768, output_dim=NUM_CLASSES, num_heads=4, num_layers=3, expansion_factor=1.25, bias=True, dropout_rate=0.2, head_layers=2)\n",
    "print(model)"
   ],
   "metadata": {
    "collapsed": false,
    "ExecuteTime": {
     "end_time": "2025-08-02T15:47:55.578761Z",
     "start_time": "2025-08-02T15:47:54.914349Z"
    }
   },
   "id": "6b1a645e6818b884",
   "execution_count": 61
  },
  {
   "cell_type": "code",
   "outputs": [],
   "source": [
    "# train\n",
    "from torch import nn, optim\n",
    "from torch.utils.tensorboard import SummaryWriter\n",
    "\n",
    "train_step = 0\n",
    "valid_step = 0\n",
    "writer = SummaryWriter()\n",
    "\n",
    "acc_train_loss = 0.\n",
    "acc_valid_loss = 0.\n",
    "eval_interval = 2000\n",
    "log_interval = 200"
   ],
   "metadata": {
    "collapsed": false,
    "ExecuteTime": {
     "end_time": "2025-08-02T15:47:57.068803Z",
     "start_time": "2025-08-02T15:47:57.044267Z"
    }
   },
   "id": "26fe594efd09342c",
   "execution_count": 62
  },
  {
   "cell_type": "code",
   "outputs": [
    {
     "name": "stdout",
     "output_type": "stream",
     "text": [
      "- Train Step 200 Loss 34.89888299942017 \\ \n",
      "Pred=[0.9995613694190979, 5.428781150840223e-05, 4.993554102838971e-05, 5.346506804926321e-05, 5.458595842355862e-05, 6.005772593198344e-05, 5.2782044804189354e-05, 7.049780833767727e-05, 4.299043212085962e-05] \n",
      "Label=[1.0, 0.0, 0.0, 0.0, 0.0, 0.0, 0.0, 0.0, 0.0]\n",
      "- Train Step 400 Loss 29.45360107421875 \\ \n",
      "Pred=[0.9994613528251648, 6.147123349364847e-05, 6.324265996227041e-05, 7.069380080793053e-05, 6.162947829579934e-05, 7.940407522255555e-05, 6.487691280199215e-05, 7.839842874091119e-05, 5.8994366554543376e-05] \n",
      "Label=[1.0, 0.0, 0.0, 0.0, 0.0, 0.0, 0.0, 0.0, 0.0]\n",
      "- Train Step 600 Loss 24.354979104995728 \\ \n",
      "Pred=[0.9994102716445923, 6.913138349773362e-05, 6.816555105615407e-05, 7.373194966930896e-05, 7.238450780278072e-05, 8.682082261657342e-05, 7.362740143435076e-05, 8.081114356173202e-05, 6.499783194158226e-05] \n",
      "Label=[1.0, 0.0, 0.0, 0.0, 0.0, 0.0, 0.0, 0.0, 0.0]\n",
      "- Train Step 800 Loss 19.590502614974977 \\ \n",
      "Pred=[0.9994149208068848, 7.272021321114153e-05, 6.701127131236717e-05, 7.456984894815832e-05, 6.901373126311228e-05, 9.049916843650863e-05, 7.261944119818509e-05, 7.095724140526727e-05, 6.774417124688625e-05] \n",
      "Label=[1.0, 0.0, 0.0, 0.0, 0.0, 0.0, 0.0, 0.0, 0.0]\n",
      "- Train Step 1000 Loss 15.436927471160889 \\ \n",
      "Pred=[0.9993146657943726, 8.571639045840129e-05, 7.835358701413497e-05, 8.307805546792224e-05, 8.118142432067543e-05, 0.0001050325226970017, 8.58354105730541e-05, 8.421590609941632e-05, 8.198239811463282e-05] \n",
      "Label=[1.0, 0.0, 0.0, 0.0, 0.0, 0.0, 0.0, 0.0, 0.0]\n"
     ]
    }
   ],
   "source": [
    "from random import randint\n",
    "from util import one_hot\n",
    "\n",
    "elastic_net_param = {\n",
    "    'alpha': 2e-4,\n",
    "    'rho': 0.2\n",
    "}\n",
    "learning_rate = 2e-5\n",
    "num_epochs = 1500\n",
    "loss_function = nn.CrossEntropyLoss()\n",
    "optimizer = optim.Adam(model.parameters(), lr=learning_rate)\n",
    "for epoch in range(num_epochs):\n",
    "    model.train()\n",
    "    for i, _token in enumerate(train_dataset['token']):\n",
    "        _label = train_dataset['label'][i]\n",
    "        _one_hot_label = one_hot(_label).to(model.dtype).to(model.device)\n",
    "        outputs = model.forward(encode(_token))\n",
    "        loss = loss_function(outputs, _one_hot_label) + model.elastic_net(alpha=elastic_net_param['alpha'], rho=elastic_net_param['rho'])\n",
    "        acc_train_loss += loss.item()\n",
    "        optimizer.zero_grad()\n",
    "        loss.backward()\n",
    "        optimizer.step()\n",
    "        if train_step % log_interval == 0 and train_step > 0:\n",
    "            writer.add_scalar('train/loss', acc_train_loss / log_interval, train_step)\n",
    "            print(f'- Train Step {train_step} Loss {acc_train_loss / log_interval} \\ \\nPred={outputs.tolist()} \\nLabel={_one_hot_label.tolist()}', flush=True)\n",
    "            acc_train_loss = 0.\n",
    "        train_step += 1\n",
    "        if train_step % eval_interval == 0:\n",
    "            model.eval()\n",
    "            rand_idx = randint(0, len(valid_dataset['token']) - 1001)\n",
    "            with torch.no_grad():\n",
    "                for _i, __token in enumerate(valid_dataset['token'][rand_idx: rand_idx + 1000]):\n",
    "                    _label = valid_dataset['label'][_i]\n",
    "                    _one_hot_label = one_hot(_label).to(model.dtype).to(model.device)\n",
    "                    outputs = model.forward(encode(__token))\n",
    "                    loss = loss_function(outputs, _one_hot_label)\n",
    "                    acc_valid_loss += loss.item()\n",
    "                    if valid_step % log_interval == 0 and valid_step > 0:\n",
    "                        writer.add_scalar('valid/loss', acc_valid_loss / log_interval, valid_step)\n",
    "                        print(f'- Valid Step {valid_step} Loss {acc_valid_loss / log_interval} \\ \\nPred={outputs.tolist()} \\nLabel={_one_hot_label.tolist()}', flush=True)\n",
    "                        acc_valid_loss = 0.\n",
    "                    valid_step += 1\n",
    "            model.train()"
   ],
   "metadata": {
    "collapsed": false,
    "is_executing": true,
    "ExecuteTime": {
     "start_time": "2025-08-02T15:49:29.489084Z"
    }
   },
   "id": "9bb8c54cf0d8705c",
   "execution_count": null
  },
  {
   "cell_type": "code",
   "outputs": [
    {
     "name": "stdout",
     "output_type": "stream",
     "text": [
      "Token=Mike, Class=0\n",
      "Token=John, Class=0\n",
      "Token=Smith, Class=0\n",
      "Token=London, Class=0\n",
      "Token=NYC, Class=0\n",
      "Token=HongKong, Class=0\n",
      "Token=China, Class=0\n",
      "Token=South Africa, Class=0\n",
      "Token=Korea, Class=0\n"
     ]
    },
    {
     "data": {
      "text/plain": "'Test finished.'"
     },
     "execution_count": 65,
     "metadata": {},
     "output_type": "execute_result"
    }
   ],
   "source": [
    "model.eval()\n",
    "test_tokens = ['Mike', 'John', 'Smith', 'London', 'NYC', 'HongKong', 'China', 'South Africa', 'Korea']\n",
    "with torch.no_grad():\n",
    "    for _tok in test_tokens:\n",
    "        _dist = model.forward(encode(_tok))\n",
    "        print(f'Token={_tok}, Class={torch.argmax(_dist)}', flush=True)\n",
    "model.train()\n",
    "'Test finished.'"
   ],
   "metadata": {
    "collapsed": false,
    "ExecuteTime": {
     "end_time": "2025-08-02T15:49:20.418918Z",
     "start_time": "2025-08-02T15:49:20.217605Z"
    }
   },
   "id": "683889b3c2e6c744",
   "execution_count": 65
  }
 ],
 "metadata": {
  "kernelspec": {
   "display_name": "Python 3",
   "language": "python",
   "name": "python3"
  },
  "language_info": {
   "codemirror_mode": {
    "name": "ipython",
    "version": 2
   },
   "file_extension": ".py",
   "mimetype": "text/x-python",
   "name": "python",
   "nbconvert_exporter": "python",
   "pygments_lexer": "ipython2",
   "version": "2.7.6"
  }
 },
 "nbformat": 4,
 "nbformat_minor": 5
}
