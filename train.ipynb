{
 "cells": [
  {
   "cell_type": "code",
   "outputs": [
    {
     "name": "stderr",
     "output_type": "stream",
     "text": [
      "[DEBUG] 2025-08-03 00:23:26,988 deeplotx.embedding : LongformerEncoder initialized on device: cuda.\n"
     ]
    }
   ],
   "source": [
    "from deeplotx import SoftmaxRegression, LongformerEncoder\n",
    "from util import NUM_CLASSES\n",
    "lf_encoder = LongformerEncoder(model_name_or_path='severinsimmler/xlm-roberta-longformer-base-16384')"
   ],
   "metadata": {
    "collapsed": false,
    "ExecuteTime": {
     "end_time": "2025-08-02T16:23:27.465519Z",
     "start_time": "2025-08-02T16:23:21.533885Z"
    }
   },
   "id": "f7fac354f36a88bc",
   "execution_count": 74
  },
  {
   "cell_type": "code",
   "outputs": [],
   "source": [
    "import torch\n",
    "from deeplotx.util import sha256\n",
    "from vortezwohl.cache import LRUCache\n",
    "\n",
    "CACHE = LRUCache(capacity=16384)\n",
    "\n",
    "def encode(text: str) -> torch.Tensor:\n",
    "    key = sha256(text)\n",
    "    if key in CACHE:\n",
    "        return CACHE[key]\n",
    "    emb = lf_encoder.encode(text, cls_only=False).mean(dim=-2, dtype=model.dtype)\n",
    "    CACHE[key] = emb\n",
    "    return emb"
   ],
   "metadata": {
    "collapsed": false,
    "ExecuteTime": {
     "end_time": "2025-08-02T16:23:27.481191Z",
     "start_time": "2025-08-02T16:23:27.468355Z"
    }
   },
   "id": "9eaf6bf7092cb96d",
   "execution_count": 75
  },
  {
   "cell_type": "code",
   "outputs": [],
   "source": [
    "import os\n",
    "import pandas as pd\n",
    "base_path = './data/multilingual_wikineural'\n",
    "languages = ['de', 'en', 'es', 'fr', 'it', 'nl', 'pl', 'pt', 'ru']\n",
    "train_data = dict()\n",
    "valid_data = dict()\n",
    "test_data = dict()\n",
    "for lang in languages:\n",
    "    train_data[lang] = pd.read_csv(os.path.join(base_path, f'train_{lang}.csv')).to_dict(orient='records')\n",
    "    valid_data[lang] = pd.read_csv(os.path.join(base_path, f'val_{lang}.csv')).to_dict(orient='records')\n",
    "    test_data[lang] = pd.read_csv(os.path.join(base_path, f'test_{lang}.csv')).to_dict(orient='records')"
   ],
   "metadata": {
    "collapsed": false,
    "ExecuteTime": {
     "end_time": "2025-08-02T16:23:35.584323Z",
     "start_time": "2025-08-02T16:23:27.484192Z"
    }
   },
   "id": "a7b644f0fd4d03be",
   "execution_count": 76
  },
  {
   "cell_type": "code",
   "outputs": [
    {
     "data": {
      "text/plain": "([(\"['Dieses' 'wiederum' 'basierte' 'auf' 'dem' 'gleichnamigen' 'Roman' 'von'\\n 'Noël' 'Calef' '.']\",\n   '[0 0 0 0 0 0 0 0 1 2 0]',\n   'de'),\n  (\"['Auf' 'Helgoland' 'starben' '2014' 'sieben' 'Jungvögel' 'und' 'fünf'\\n 'Altvögel' 'als' 'Verstrickungsopfer' '.']\",\n   '[0 5 0 0 0 0 0 0 0 0 0 0]',\n   'de')],\n [(\"['Die' 'Europameisterschaften' 'in' 'Dresden' 'schloss' 'sie' 'mit' 'dem'\\n 'zweiten' 'Platz' 'in' 'der' 'Gesamtwertung' 'ab' '.']\",\n   '[0 0 0 5 0 0 0 0 0 0 0 0 0 0 0]',\n   'de'),\n  ('[\\'Die\\' \\'Europameisterschaften\\' \\'im\\' \\'selben\\' \\'Jahr\\' \\'in\\' \\'Heerenveen\\'\\n \\'konnte\\' \\'sie\\' \\'mit\\' \\'dem\\' \\'Gewinn\\' \\'von\\' \\'vier\\' \\'Goldmedaillen\\' \\'(\\'\\n \\'1000\\' \\'\"\\' \\'m\\' \\',\\' \\'1500\\' \\'\"\\' \\'m\\' \\',\\' \\'3000\\' \\'\"\\' \\'m\\' \\',\\' \\'Gesamtwertung\\'\\n \\')\\' \\'deutlich\\' \\'für\\' \\'sich\\' \\'entscheiden\\' \\'.\\']',\n   '[0 0 0 0 0 0 5 0 0 0 0 0 0 0 0 0 0 0 0 0 0 0 0 0 0 0 0 0 0 0 0 0 0 0 0]',\n   'de')],\n [(\"['Er' 'erklärte' ',' 'dass' 'der' 'Allgemeine' 'Nationalkongress'\\n 'illegal' 'sei' ',' 'weil' 'das' 'Parlament' 'geduldet' 'hätte' ','\\n 'dass' 'Terroristen' 'in' 'Libyen' 'hätten' 'Fuß' 'fassen' 'können' '.']\",\n   '[0 0 0 0 0 0 0 0 0 0 0 0 0 0 0 0 0 0 0 5 0 0 0 0 0]',\n   'de'),\n  (\"['Die' 'Regierung' 'verhängte' 'daraufhin' 'eine' 'Flugverbotszone' 'über'\\n 'Bengasi' '.']\",\n   '[0 0 0 0 0 0 0 5 0]',\n   'de')])"
     },
     "execution_count": 77,
     "metadata": {},
     "output_type": "execute_result"
    }
   ],
   "source": [
    "total_train_data = []\n",
    "total_valid_data = []\n",
    "total_test_data = []\n",
    "for lang, data in train_data.items():\n",
    "    for d in data:\n",
    "        total_train_data.append((d['tokens'], d['ner_tags'], d['lang']))\n",
    "for lang, data in valid_data.items():\n",
    "    for d in data:\n",
    "        total_valid_data.append((d['tokens'], d['ner_tags'], d['lang']))\n",
    "for lang, data in test_data.items():\n",
    "    for d in data:\n",
    "        total_test_data.append((d['tokens'], d['ner_tags'], d['lang']))\n",
    "\n",
    "total_train_data[:2], total_valid_data[:2], total_test_data[:2]"
   ],
   "metadata": {
    "collapsed": false,
    "ExecuteTime": {
     "end_time": "2025-08-02T16:23:36.113598Z",
     "start_time": "2025-08-02T16:23:35.587324Z"
    }
   },
   "id": "57c633cc69971d5d",
   "execution_count": 77
  },
  {
   "cell_type": "code",
   "outputs": [
    {
     "name": "stdout",
     "output_type": "stream",
     "text": [
      "Dataset initialized [(('Dieses', 0), ('Dieses', 0)), (('wiederum', 0), ('wiederum', 0)), (('basierte', 0), ('basierte', 0)), (('auf', 0), ('auf', 0)), (('dem', 0), ('dem', 0)), (('gleichnamigen', 0), ('gleichnamigen', 0)), (('Roman', 0), ('Roman', 0)), (('von', 0), ('von', 0)), (('Noël', 1), ('Noël', 1)), (('Calef', 2), ('Calef', 2)), (('.', 0), ('.', 0)), (('Auf', 0), ('Auf', 0)), (('Helgoland', 5), ('Helgoland', 5)), (('starben', 0), ('starben', 0)), (('2014', 0), ('2014', 0)), (('sieben', 0), ('sieben', 0)), (('Jungvögel', 0), ('Jungvögel', 0)), (('und', 0), ('und', 0)), (('fünf', 0), ('fünf', 0)), (('Altvögel', 0), ('Altvögel', 0)), (('als', 0), ('als', 0)), (('Verstrickungsopfer', 0), ('Verstrickungsopfer', 0)), (('.', 0), ('.', 0))]\n",
      "Dataset shuffled [(('Albrecht', 1), ('Albrecht', 1)), (('Got', 8), ('Got', 8)), (('en', 8), ('en', 8)), (('União', 6), ('União', 6)), (('sich', 0), ('sich', 0)), (('Vrančić', 2), ('Vrančić', 2)), (('Нью-Уэстминстер', 5), ('Нью-Уэстминстер', 5)), (('en', 0), ('en', 0)), (('City', 6), ('City', 6)), (('James', 2), ('James', 2)), (('Goa', 5), ('Goa', 5)), (('Ross', 2), ('Ross', 2)), (('Karol', 2), ('Karol', 2)), (('Rubens', 2), ('Rubens', 2)), (('Piłce', 8), ('Piłce', 8)), (('Вселенной', 5), ('Вселенной', 5)), (('Filmfestival', 7), ('Filmfestival', 7)), (('Edimburgo', 5), ('Edimburgo', 5)), (('Houston', 3), ('Houston', 3)), (('центра', 4), ('центра', 4)), (('Pisa', 6), ('Pisa', 6)), (('Mayhem', 3), ('Mayhem', 3)), (('the', 0), ('the', 0))]\n",
      "other_token_count_for_each_lang: {'de': 55000, 'en': 55000, 'es': 55000, 'fr': 55000, 'it': 55000, 'nl': 55000, 'pl': 55000, 'pt': 55000, 'ru': 55000}\n"
     ]
    },
    {
     "data": {
      "text/plain": "'2787832 tokens to train in total.'"
     },
     "execution_count": 79,
     "metadata": {},
     "output_type": "execute_result"
    }
   ],
   "source": [
    "from random import shuffle\n",
    "\n",
    "train_dataset = []\n",
    "valid_dataset = []\n",
    "test_dataset = []\n",
    "max_other_token_count = 55_000  # 55k\n",
    "other_token_count_for_each_lang = {\n",
    "    'de': 0,\n",
    "    'en': 0,\n",
    "    'es': 0,\n",
    "    'fr': 0,\n",
    "    'it': 0,\n",
    "    'nl': 0,\n",
    "    'pl': 0,\n",
    "    'pt': 0,\n",
    "    'ru': 0\n",
    "}\n",
    "\n",
    "def token_decode(s: str) -> list:\n",
    "    return [_.strip().replace(\"'\", '').replace('[', '').replace(']', '') for _ in s.replace(\"' '\", '||').replace('\\n', '||').split('||')]\n",
    "\n",
    "def label_decode(s: str) -> list:\n",
    "    _labels = []\n",
    "    label_lists = token_decode(s)\n",
    "    for label_ls in label_lists:\n",
    "        _labels.extend([int(_) for _ in label_ls.split(' ')])\n",
    "    return _labels\n",
    "\n",
    "for tokens, labels, lang in total_train_data:\n",
    "    tokens, labels = token_decode(tokens), label_decode(labels)\n",
    "    for i, token in enumerate(tokens):\n",
    "        if labels[i] > 0:\n",
    "            train_dataset.append((token, labels[i]))\n",
    "        else:\n",
    "            if other_token_count_for_each_lang[lang] < max_other_token_count:\n",
    "                other_token_count_for_each_lang[lang] += 1\n",
    "                train_dataset.append((token, labels[i]))\n",
    "\n",
    "for tokens, labels, lang in total_valid_data:\n",
    "    tokens, labels = token_decode(tokens), label_decode(labels)\n",
    "    for i, token in enumerate(tokens):\n",
    "        if labels[i] > 0:\n",
    "            valid_dataset.append((token, labels[i]))\n",
    "        else:\n",
    "            if other_token_count_for_each_lang[lang] < max_other_token_count:\n",
    "                other_token_count_for_each_lang[lang] += 1\n",
    "                valid_dataset.append((token, labels[i]))\n",
    "                \n",
    "                \n",
    "for tokens, labels, lang in total_test_data:\n",
    "    tokens, labels = token_decode(tokens), label_decode(labels)\n",
    "    for i, token in enumerate(tokens):\n",
    "        if labels[i] > 0:\n",
    "            test_dataset.append((token, labels[i]))\n",
    "        else:\n",
    "            if other_token_count_for_each_lang[lang] < max_other_token_count:\n",
    "                other_token_count_for_each_lang[lang] += 1\n",
    "                test_dataset.append((token, labels[i]))\n",
    "\n",
    "print('Dataset initialized', list(zip(train_dataset[:23], train_dataset[:23])))\n",
    "shuffle(train_dataset)\n",
    "shuffle(valid_dataset)\n",
    "shuffle(test_dataset)\n",
    "print('Dataset shuffled', list(zip(train_dataset[:23], train_dataset[:23])))\n",
    "print(f'other_token_count_for_each_lang: {other_token_count_for_each_lang}')\n",
    "f'{len(train_dataset)} tokens to train in total.'"
   ],
   "metadata": {
    "collapsed": false,
    "ExecuteTime": {
     "end_time": "2025-08-02T16:25:16.394023Z",
     "start_time": "2025-08-02T16:24:49.565196Z"
    }
   },
   "id": "5f0bb7bde96b730c",
   "execution_count": 79
  },
  {
   "cell_type": "markdown",
   "source": [
    "## 训练"
   ],
   "metadata": {
    "collapsed": false
   },
   "id": "90ca149f740c3ba0"
  },
  {
   "cell_type": "code",
   "outputs": [
    {
     "name": "stdout",
     "output_type": "stream",
     "text": [
      "===============================\n",
      "Model_Name: SoftmaxRegression\n",
      "In_Features: 768\n",
      "Out_Features: 9\n",
      "Device: cuda\n",
      "Dtype: torch.float32\n",
      "Total_Parameters: 49642017\n",
      "Trainable_Parameters: 49642017\n",
      "NonTrainable_Parameters: 0\n",
      "-------------------------------\n",
      "SoftmaxRegression(\n",
      "  (multi_head_ffn_layers): ModuleList(\n",
      "    (0-2): 3 x MultiHeadFeedForward(\n",
      "      (expand_proj): Linear(in_features=768, out_features=3072, bias=True)\n",
      "      (ffn_heads): ModuleList(\n",
      "        (0-3): 4 x FeedForward(\n",
      "          (ffn_layers): ModuleList(\n",
      "            (0-1): 2 x FeedForwardUnit(\n",
      "              (up_proj): Linear(in_features=768, out_features=960, bias=True)\n",
      "              (down_proj): Linear(in_features=960, out_features=768, bias=True)\n",
      "              (parametric_relu): PReLU(num_parameters=1)\n",
      "              (layer_norm): LayerNorm((768,), eps=1e-09, elementwise_affine=True)\n",
      "            )\n",
      "          )\n",
      "        )\n",
      "      )\n",
      "      (out_proj): Linear(in_features=3072, out_features=768, bias=True)\n",
      "    )\n",
      "  )\n",
      "  (out_proj): Linear(in_features=768, out_features=9, bias=True)\n",
      ")\n",
      "===============================\n"
     ]
    }
   ],
   "source": [
    "model = SoftmaxRegression(input_dim=768, output_dim=NUM_CLASSES, num_heads=4, num_layers=3, expansion_factor=1.25, bias=True, dropout_rate=0.2, head_layers=2)\n",
    "print(model)"
   ],
   "metadata": {
    "collapsed": false,
    "ExecuteTime": {
     "end_time": "2025-08-02T16:45:09.784394Z",
     "start_time": "2025-08-02T16:45:09.737742Z"
    }
   },
   "id": "6b1a645e6818b884",
   "execution_count": 92
  },
  {
   "cell_type": "code",
   "outputs": [],
   "source": [
    "# train\n",
    "from torch import nn, optim\n",
    "from torch.utils.tensorboard import SummaryWriter\n",
    "\n",
    "train_step = 0\n",
    "valid_step = 0\n",
    "writer = SummaryWriter()\n",
    "\n",
    "acc_train_loss = 0.\n",
    "acc_valid_loss = 0.\n",
    "eval_interval = 2000\n",
    "log_interval = 200\n",
    "valid_log_interval = 50"
   ],
   "metadata": {
    "collapsed": false,
    "is_executing": true
   },
   "id": "26fe594efd09342c",
   "execution_count": null
  },
  {
   "cell_type": "code",
   "outputs": [],
   "source": [
    "from random import randint\n",
    "from util import one_hot\n",
    "\n",
    "elastic_net_param = {\n",
    "    'alpha': 2e-4,\n",
    "    'rho': 0.2\n",
    "}\n",
    "learning_rate = 2e-6\n",
    "num_epochs = 1500\n",
    "loss_function = nn.CrossEntropyLoss()\n",
    "optimizer = optim.Adam(model.parameters(), lr=learning_rate)\n",
    "for epoch in range(num_epochs):\n",
    "    model.train()\n",
    "    for i, (_token, _label) in enumerate(train_dataset):\n",
    "        _one_hot_label = one_hot(_label).to(model.dtype).to(model.device)\n",
    "        outputs = model.forward(encode(_token))\n",
    "        loss = loss_function(outputs, _one_hot_label) + model.elastic_net(alpha=elastic_net_param['alpha'], rho=elastic_net_param['rho'])\n",
    "        acc_train_loss += loss.item()\n",
    "        optimizer.zero_grad()\n",
    "        loss.backward()\n",
    "        optimizer.step()\n",
    "        if train_step % log_interval == 0 and train_step > 0:\n",
    "            writer.add_scalar('train/loss', acc_train_loss / log_interval, train_step)\n",
    "            print(f'- Train Step {train_step} Loss {acc_train_loss / log_interval} \\\\'\n",
    "                  f'\\nToken={_token}'\n",
    "                  f'\\nPred={outputs.tolist()}'\n",
    "                  f'\\nLabel={_one_hot_label.tolist()}', flush=True)\n",
    "            acc_train_loss = 0.\n",
    "        train_step += 1\n",
    "        if train_step % eval_interval == 0:\n",
    "            model.eval()\n",
    "            rand_idx = randint(0, len(valid_dataset) - 501)\n",
    "            with torch.no_grad():\n",
    "                for _i, (__token, __label) in enumerate(valid_dataset[rand_idx: rand_idx + 500]):\n",
    "                    _one_hot_label = one_hot(__label).to(model.dtype).to(model.device)\n",
    "                    outputs = model.forward(encode(__token))\n",
    "                    loss = loss_function(outputs, _one_hot_label)\n",
    "                    acc_valid_loss += loss.item()\n",
    "                    if valid_step % valid_log_interval == 0 and valid_step > 0:\n",
    "                        writer.add_scalar('valid/loss', acc_valid_loss / log_interval, valid_step)\n",
    "                        print(f'- Valid Step {valid_step} Loss {acc_valid_loss / log_interval} \\\\'\n",
    "                              f'\\nToken={__token}'\n",
    "                              f'\\nPred={outputs.tolist()}'\n",
    "                              f'\\nLabel={_one_hot_label.tolist()}', flush=True)\n",
    "                        acc_valid_loss = 0.\n",
    "                    valid_step += 1\n",
    "            model.train()"
   ],
   "metadata": {
    "collapsed": false,
    "is_executing": true
   },
   "id": "9bb8c54cf0d8705c",
   "execution_count": null
  },
  {
   "cell_type": "code",
   "outputs": [],
   "source": [
    "model.eval()\n",
    "test_tokens = ['Mike', 'John', 'Smith', 'London', 'NYC', 'HongKong', 'China', 'South Africa', 'Korea']\n",
    "with torch.no_grad():\n",
    "    for _tok in test_tokens:\n",
    "        _dist = model.forward(encode(_tok))\n",
    "        print(f'Token={_tok}, Class={torch.argmax(_dist)}', flush=True)\n",
    "model.train()\n",
    "'Test finished.'"
   ],
   "metadata": {
    "collapsed": false
   },
   "id": "683889b3c2e6c744",
   "execution_count": null
  }
 ],
 "metadata": {
  "kernelspec": {
   "display_name": "Python 3",
   "language": "python",
   "name": "python3"
  },
  "language_info": {
   "codemirror_mode": {
    "name": "ipython",
    "version": 2
   },
   "file_extension": ".py",
   "mimetype": "text/x-python",
   "name": "python",
   "nbconvert_exporter": "python",
   "pygments_lexer": "ipython2",
   "version": "2.7.6"
  }
 },
 "nbformat": 4,
 "nbformat_minor": 5
}
