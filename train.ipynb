{
 "cells": [
  {
   "cell_type": "code",
   "outputs": [
    {
     "name": "stderr",
     "output_type": "stream",
     "text": [
      "[DEBUG] 2025-08-03 13:47:19,404 deeplotx.embedding : LongformerEncoder initialized on device: cuda.\n"
     ]
    }
   ],
   "source": [
    "from deeplotx import SoftmaxRegression, LongformerEncoder\n",
    "from util import NUM_CLASSES\n",
    "lf_encoder = LongformerEncoder(model_name_or_path='severinsimmler/xlm-roberta-longformer-base-16384')"
   ],
   "metadata": {
    "collapsed": false,
    "ExecuteTime": {
     "end_time": "2025-08-03T05:47:19.787828Z",
     "start_time": "2025-08-03T05:47:12.356900Z"
    }
   },
   "id": "f7fac354f36a88bc",
   "execution_count": 26
  },
  {
   "cell_type": "code",
   "outputs": [],
   "source": [
    "import torch\n",
    "from deeplotx.util import sha256\n",
    "from vortezwohl.cache import LRUCache\n",
    "\n",
    "CACHE = LRUCache(capacity=16384)\n",
    "\n",
    "def encode(text: str) -> torch.Tensor:\n",
    "    key = sha256(text)\n",
    "    if key in CACHE:\n",
    "        return CACHE[key]\n",
    "    emb = lf_encoder.encode(text, cls_only=False).mean(dim=-2, dtype=model.dtype)\n",
    "    CACHE[key] = emb\n",
    "    return emb"
   ],
   "metadata": {
    "collapsed": false,
    "ExecuteTime": {
     "end_time": "2025-08-03T05:47:19.831350Z",
     "start_time": "2025-08-03T05:47:19.801838Z"
    }
   },
   "id": "9eaf6bf7092cb96d",
   "execution_count": 27
  },
  {
   "cell_type": "code",
   "outputs": [
    {
     "name": "stdout",
     "output_type": "stream",
     "text": [
      "Dataset shuffled [(['Темпельхоф-Шёнеберг', 5], ['Темпельхоф-Шёнеберг', 5]), (['Муркока', 1], ['Муркока', 1]), (['Kuduro', 8], ['Kuduro', 8]), (['Ататюрка', 1], ['Ататюрка', 1]), (['лыжных', 0], ['лыжных', 0]), (['Рейхштадт', 5], ['Рейхштадт', 5]), (['HaRabbanim', 4], ['HaRabbanim', 4]), (['Pakistaans', 3], ['Pakistaans', 3]), (['Vriendschapsspelen', 7], ['Vriendschapsspelen', 7]), (['Juicy', 1], ['Juicy', 1]), (['afhakken', 0], ['afhakken', 0]), (['Erkin', 2], ['Erkin', 2]), (['Etolia', 5], ['Etolia', 5]), (['herrliche', 8], ['herrliche', 8]), (['Lobuche', 5], ['Lobuche', 5]), (['frames', 0], ['frames', 0]), (['Ionico', 6], ['Ionico', 6]), (['судом', 4], ['судом', 4]), (['заключила', 0], ['заключила', 0]), (['Echinochloa', 5], ['Echinochloa', 5]), (['Монтабер', 2], ['Монтабер', 2]), (['Ipatovo', 5], ['Ipatovo', 5]), (['Whittemore', 2], ['Whittemore', 2])]\n"
     ]
    }
   ],
   "source": [
    "import json\n",
    "from random import shuffle\n",
    "\n",
    "with open('./data/datasets.json', 'r', encoding='utf-8') as f:\n",
    "    datasets = json.load(f)\n",
    "    \n",
    "train_dataset = datasets['train']\n",
    "valid_dataset = datasets['valid']\n",
    "test_dataset = datasets['test']\n",
    "    \n",
    "shuffle(train_dataset)\n",
    "shuffle(valid_dataset)\n",
    "shuffle(test_dataset)\n",
    "print('Dataset shuffled', list(zip(train_dataset[:23], train_dataset[:23])))"
   ],
   "metadata": {
    "collapsed": false,
    "ExecuteTime": {
     "end_time": "2025-08-03T05:47:22.387719Z",
     "start_time": "2025-08-03T05:47:19.834351Z"
    }
   },
   "id": "85a0011256406ea0",
   "execution_count": 28
  },
  {
   "cell_type": "markdown",
   "source": [
    "## 训练"
   ],
   "metadata": {
    "collapsed": false
   },
   "id": "90ca149f740c3ba0"
  },
  {
   "cell_type": "code",
   "outputs": [
    {
     "name": "stdout",
     "output_type": "stream",
     "text": [
      "===============================\n",
      "Model_Name: SoftmaxRegression\n",
      "In_Features: 768\n",
      "Out_Features: 9\n",
      "Device: cuda\n",
      "Dtype: torch.float32\n",
      "Total_Parameters: 49642017\n",
      "Trainable_Parameters: 49642017\n",
      "NonTrainable_Parameters: 0\n",
      "-------------------------------\n",
      "SoftmaxRegression(\n",
      "  (multi_head_ffn_layers): ModuleList(\n",
      "    (0-2): 3 x MultiHeadFeedForward(\n",
      "      (expand_proj): Linear(in_features=768, out_features=3072, bias=True)\n",
      "      (ffn_heads): ModuleList(\n",
      "        (0-3): 4 x FeedForward(\n",
      "          (ffn_layers): ModuleList(\n",
      "            (0-1): 2 x FeedForwardUnit(\n",
      "              (up_proj): Linear(in_features=768, out_features=960, bias=True)\n",
      "              (down_proj): Linear(in_features=960, out_features=768, bias=True)\n",
      "              (parametric_relu): PReLU(num_parameters=1)\n",
      "              (layer_norm): LayerNorm((768,), eps=1e-09, elementwise_affine=True)\n",
      "            )\n",
      "          )\n",
      "        )\n",
      "      )\n",
      "      (out_proj): Linear(in_features=3072, out_features=768, bias=True)\n",
      "    )\n",
      "  )\n",
      "  (out_proj): Linear(in_features=768, out_features=9, bias=True)\n",
      ")\n",
      "===============================\n"
     ]
    }
   ],
   "source": [
    "model = SoftmaxRegression(input_dim=768, output_dim=NUM_CLASSES, num_heads=4, num_layers=3, expansion_factor=1.25, bias=True, dropout_rate=0.2, head_layers=2)\n",
    "print(model)"
   ],
   "metadata": {
    "collapsed": false,
    "ExecuteTime": {
     "end_time": "2025-08-03T05:47:22.417885Z",
     "start_time": "2025-08-03T05:47:22.389720Z"
    }
   },
   "id": "6b1a645e6818b884",
   "execution_count": 29
  },
  {
   "cell_type": "code",
   "outputs": [],
   "source": [
    "# train\n",
    "from torch import nn, optim\n",
    "from torch.utils.tensorboard import SummaryWriter"
   ],
   "metadata": {
    "collapsed": false,
    "ExecuteTime": {
     "end_time": "2025-08-03T05:47:22.433892Z",
     "start_time": "2025-08-03T05:47:22.418892Z"
    }
   },
   "id": "4bfa8215ab0135b",
   "execution_count": 30
  },
  {
   "cell_type": "code",
   "outputs": [],
   "source": [
    "train_step = 0\n",
    "valid_step = 0\n",
    "writer = SummaryWriter()\n",
    "\n",
    "acc_train_loss = 0.\n",
    "acc_valid_loss = 0.\n",
    "eval_interval = 2000\n",
    "log_interval = 200\n",
    "valid_log_interval = 50"
   ],
   "metadata": {
    "collapsed": false,
    "ExecuteTime": {
     "end_time": "2025-08-03T05:47:22.448886Z",
     "start_time": "2025-08-03T05:47:22.435894Z"
    }
   },
   "id": "26fe594efd09342c",
   "execution_count": 31
  },
  {
   "cell_type": "code",
   "outputs": [
    {
     "name": "stdout",
     "output_type": "stream",
     "text": [
      "- Train Step 200 Loss 37.698599624633786 \\\n",
      "Token=Gulda\n",
      "Pred=[0.05101672187447548, 0.08279963582754135, 0.4351254999637604, 0.029791289940476418, 0.022936778143048286, 0.29855313897132874, 0.027337374165654182, 0.023303652182221413, 0.0291359294205904]\n",
      "Label=[0.0, 0.0, 1.0, 0.0, 0.0, 0.0, 0.0, 0.0, 0.0]\n",
      "- Train Step 400 Loss 37.1756880569458 \\\n",
      "Token=Kutxa\n",
      "Pred=[0.02882845140993595, 0.0431528277695179, 0.6448128819465637, 0.010775791481137276, 0.008547043427824974, 0.23365026712417603, 0.00929773785173893, 0.009288311935961246, 0.011646737344563007]\n",
      "Label=[0.0, 0.0, 0.0, 0.0, 1.0, 0.0, 0.0, 0.0, 0.0]\n",
      "- Train Step 600 Loss 36.84374032974243 \\\n",
      "Token=Stapleton\n",
      "Pred=[0.01820603385567665, 0.022840633988380432, 0.4889258146286011, 0.007055042777210474, 0.005878622177988291, 0.4381110668182373, 0.006484708748757839, 0.004986331798136234, 0.007511668838560581]\n",
      "Label=[0.0, 0.0, 1.0, 0.0, 0.0, 0.0, 0.0, 0.0, 0.0]\n",
      "- Train Step 800 Loss 36.55880084991455 \\\n",
      "Token=Assen\n",
      "Pred=[0.013761444948613644, 0.01591069996356964, 0.15914909541606903, 0.0045615388080477715, 0.0035052732564508915, 0.7912009358406067, 0.004434756934642792, 0.00369006278924644, 0.003786153858527541]\n",
      "Label=[0.0, 0.0, 0.0, 0.0, 0.0, 0.0, 1.0, 0.0, 0.0]\n",
      "- Train Step 1000 Loss 36.2496371459961 \\\n",
      "Token=Бродского\n",
      "Pred=[0.011939501389861107, 0.011377669870853424, 0.1473715901374817, 0.003383803879842162, 0.002702415455132723, 0.8139315247535706, 0.0030256640166044235, 0.0028944339137524366, 0.0033734962344169617]\n",
      "Label=[0.0, 1.0, 0.0, 0.0, 0.0, 0.0, 0.0, 0.0, 0.0]\n",
      "- Train Step 1200 Loss 35.968775577545166 \\\n",
      "Token=Phylactolaemata\n",
      "Pred=[0.013325071893632412, 0.016309373080730438, 0.39621224999427795, 0.0035633144434541464, 0.0031934448052197695, 0.5565680861473083, 0.0029112480115145445, 0.0036193267442286015, 0.004297897219657898]\n",
      "Label=[0.0, 0.0, 0.0, 0.0, 0.0, 0.0, 0.0, 1.0, 0.0]\n",
      "- Train Step 1400 Loss 35.62118232727051 \\\n",
      "Token=Meunier\n",
      "Pred=[0.010414930991828442, 0.010974572040140629, 0.16288281977176666, 0.002803866285830736, 0.002103067236021161, 0.8035039901733398, 0.0024760381784290075, 0.0021660886704921722, 0.002674711402505636]\n",
      "Label=[0.0, 0.0, 1.0, 0.0, 0.0, 0.0, 0.0, 0.0, 0.0]\n",
      "- Train Step 1600 Loss 35.34507371902466 \\\n",
      "Token=Бестужева-Рюмина\n",
      "Pred=[0.011867550201714039, 0.010600785724818707, 0.37016889452934265, 0.002668740227818489, 0.0019629390444606543, 0.5962823033332825, 0.0023444790858775377, 0.0019848616793751717, 0.002119354670867324]\n",
      "Label=[0.0, 0.0, 1.0, 0.0, 0.0, 0.0, 0.0, 0.0, 0.0]\n",
      "- Train Step 1800 Loss 34.99814357757568 \\\n",
      "Token=Псковской\n",
      "Pred=[0.010406941175460815, 0.010137446224689484, 0.48161762952804565, 0.00207504048012197, 0.0020572682842612267, 0.4866853952407837, 0.0025791621301323175, 0.0019395892741158605, 0.002501518465578556]\n",
      "Label=[0.0, 0.0, 0.0, 0.0, 0.0, 1.0, 0.0, 0.0, 0.0]\n",
      "- Valid Step 50 Loss 2.1237645983695983 \\\n",
      "Token=Perticaroli\n",
      "Pred=[0.007203495129942894, 0.0067936754785478115, 0.6702857613563538, 0.001472801435738802, 0.0011681270552799106, 0.30878186225891113, 0.0015370679320767522, 0.0013061568606644869, 0.0014510743785649538]\n",
      "Label=[0.0, 0.0, 1.0, 0.0, 0.0, 0.0, 0.0, 0.0, 0.0]\n",
      "- Valid Step 100 Loss 2.118205182552338 \\\n",
      "Token=Cypriot\n",
      "Pred=[0.007194774225354195, 0.007162095047533512, 0.66732257604599, 0.0014760836493223906, 0.0012017557164654136, 0.3112238645553589, 0.001626972807571292, 0.001272025634534657, 0.0015197970205917954]\n",
      "Label=[0.0, 0.0, 0.0, 0.0, 0.0, 0.0, 0.0, 1.0, 0.0]\n",
      "- Valid Step 150 Loss 2.1923254442214968 \\\n",
      "Token=et \"l\" imprégnation\n",
      "Pred=[0.007309819106012583, 0.007105943746864796, 0.6744880676269531, 0.0013909459812566638, 0.0011646345956251025, 0.3043645918369293, 0.0014834406320005655, 0.001252278801985085, 0.0014402710366994143]\n",
      "Label=[0.0, 1.0, 0.0, 0.0, 0.0, 0.0, 0.0, 0.0, 0.0]\n",
      "- Valid Step 200 Loss 2.034297568798065 \\\n",
      "Token=Schmidtmer\n",
      "Pred=[0.007446613162755966, 0.006944009102880955, 0.671279788017273, 0.0014767632819712162, 0.0012075818376615644, 0.3071618378162384, 0.001653904328122735, 0.0013456165324896574, 0.001483859377913177]\n",
      "Label=[0.0, 0.0, 1.0, 0.0, 0.0, 0.0, 0.0, 0.0, 0.0]\n",
      "- Valid Step 250 Loss 2.0782419776916505 \\\n",
      "Token=Coblenza\n",
      "Pred=[0.007401423063129187, 0.006870468147099018, 0.6678060293197632, 0.0014415966579690576, 0.00117900175973773, 0.31095680594444275, 0.001622949494048953, 0.001294202171266079, 0.0014274826971814036]\n",
      "Label=[0.0, 0.0, 0.0, 0.0, 0.0, 1.0, 0.0, 0.0, 0.0]\n",
      "- Valid Step 300 Loss 2.0886648654937745 \\\n",
      "Token=Melli\n",
      "Pred=[0.007646428886801004, 0.007037284318357706, 0.6689035892486572, 0.001498269964940846, 0.0011636222479864955, 0.30926617980003357, 0.0016144829569384456, 0.0013530305586755276, 0.0015170670812949538]\n",
      "Label=[0.0, 0.0, 0.0, 0.0, 0.0, 1.0, 0.0, 0.0, 0.0]\n",
      "- Valid Step 350 Loss 2.1078229761123657 \\\n",
      "Token=Falardeau\n",
      "Pred=[0.0073945848271250725, 0.006856093183159828, 0.6668150424957275, 0.001476007979363203, 0.0011737130116671324, 0.31197017431259155, 0.0015477794222533703, 0.0013167784782126546, 0.0014497769298031926]\n",
      "Label=[0.0, 0.0, 1.0, 0.0, 0.0, 0.0, 0.0, 0.0, 0.0]\n",
      "- Valid Step 400 Loss 2.092615921497345 \\\n",
      "Token=Hugh\n",
      "Pred=[0.007485741749405861, 0.007056922186166048, 0.6669895052909851, 0.0014801652869209647, 0.0012178915785625577, 0.3111090064048767, 0.0017058058874681592, 0.0014353034785017371, 0.0015197106404229999]\n",
      "Label=[0.0, 1.0, 0.0, 0.0, 0.0, 0.0, 0.0, 0.0, 0.0]\n",
      "- Valid Step 450 Loss 2.0921176624298097 \\\n",
      "Token=Poole\n",
      "Pred=[0.007393877021968365, 0.006994946859776974, 0.6666609644889832, 0.001504147658124566, 0.001206016750074923, 0.31178492307662964, 0.0016615547938272357, 0.001356213935650885, 0.0014374711317941546]\n",
      "Label=[0.0, 0.0, 1.0, 0.0, 0.0, 0.0, 0.0, 0.0, 0.0]\n",
      "- Train Step 2000 Loss 34.70609527587891 \\\n",
      "Token=retenção\n",
      "Pred=[0.00887333694845438, 0.008238193579018116, 0.6470516324043274, 0.0017231431556865573, 0.0015122154727578163, 0.3271164894104004, 0.0019234640058130026, 0.0017219777218997478, 0.0018395669758319855]\n",
      "Label=[1.0, 0.0, 0.0, 0.0, 0.0, 0.0, 0.0, 0.0, 0.0]\n",
      "- Train Step 2200 Loss 34.41119625091553 \\\n",
      "Token=odkrywając\n",
      "Pred=[0.007428966928273439, 0.006858089007437229, 0.23417526483535767, 0.0013376278802752495, 0.001074940781109035, 0.7451086640357971, 0.0015302399406209588, 0.001158369705080986, 0.0013277564430609345]\n",
      "Label=[1.0, 0.0, 0.0, 0.0, 0.0, 0.0, 0.0, 0.0, 0.0]\n",
      "- Train Step 2400 Loss 34.05146440505982 \\\n",
      "Token=transportaron\n",
      "Pred=[0.006213181186467409, 0.005243929568678141, 0.17407751083374023, 0.0011157168773934245, 0.0010305392788723111, 0.8087500929832458, 0.0014126361347734928, 0.0010175458155572414, 0.0011388675775378942]\n",
      "Label=[1.0, 0.0, 0.0, 0.0, 0.0, 0.0, 0.0, 0.0, 0.0]\n",
      "- Train Step 2600 Loss 33.762563724517825 \\\n",
      "Token=Mengeringhausen\n",
      "Pred=[0.0072876461781561375, 0.005708536598831415, 0.17517022788524628, 0.001080985413864255, 0.0010267392499372363, 0.8063616752624512, 0.00115423824172467, 0.0010383246699348092, 0.0011716916924342513]\n",
      "Label=[0.0, 0.0, 0.0, 0.0, 0.0, 1.0, 0.0, 0.0, 0.0]\n",
      "- Train Step 2800 Loss 33.473276653289794 \\\n",
      "Token=Sharmba\n",
      "Pred=[0.011162245646119118, 0.008996447548270226, 0.6722053289413452, 0.0019410736858844757, 0.001740870182402432, 0.29813438653945923, 0.0021015251986682415, 0.0017184707103297114, 0.0019996813498437405]\n",
      "Label=[0.0, 1.0, 0.0, 0.0, 0.0, 0.0, 0.0, 0.0, 0.0]\n",
      "- Train Step 3000 Loss 33.115711250305175 \\\n",
      "Token=Thießen\n",
      "Pred=[0.008090157993137836, 0.006712707225233316, 0.5659484267234802, 0.0012876824475824833, 0.0011605907930061221, 0.41284942626953125, 0.00150374136865139, 0.001186909037642181, 0.0012602884089574218]\n",
      "Label=[0.0, 0.0, 1.0, 0.0, 0.0, 0.0, 0.0, 0.0, 0.0]\n",
      "- Train Step 3200 Loss 32.75865421295166 \\\n",
      "Token=Schijveschuurder\n",
      "Pred=[0.004652622155845165, 0.004114004783332348, 0.16908247768878937, 0.0007936279871501029, 0.000640208600088954, 0.8183798789978027, 0.0007650486659258604, 0.0006526419310830534, 0.0009194607846438885]\n",
      "Label=[0.0, 0.0, 1.0, 0.0, 0.0, 0.0, 0.0, 0.0, 0.0]\n"
     ]
    }
   ],
   "source": [
    "from random import randint\n",
    "from util import one_hot\n",
    "\n",
    "elastic_net_param = {\n",
    "    'alpha': 2e-4,\n",
    "    'rho': 0.2\n",
    "}\n",
    "learning_rate = 2e-6\n",
    "num_epochs = 1500\n",
    "loss_function = nn.CrossEntropyLoss()\n",
    "optimizer = optim.Adam(model.parameters(), lr=learning_rate)\n",
    "for epoch in range(num_epochs):\n",
    "    model.train()\n",
    "    for i, (_token, _label) in enumerate(train_dataset):\n",
    "        _one_hot_label = one_hot(_label).to(model.dtype).to(model.device)\n",
    "        outputs = model.forward(encode(_token))\n",
    "        loss = loss_function(outputs, _one_hot_label) + model.elastic_net(alpha=elastic_net_param['alpha'], rho=elastic_net_param['rho'])\n",
    "        acc_train_loss += loss.item()\n",
    "        optimizer.zero_grad()\n",
    "        loss.backward()\n",
    "        optimizer.step()\n",
    "        if train_step % log_interval == 0 and train_step > 0:\n",
    "            writer.add_scalar('train/loss', acc_train_loss / log_interval, train_step)\n",
    "            print(f'- Train Step {train_step} Loss {acc_train_loss / log_interval} \\\\'\n",
    "                  f'\\nToken={_token}'\n",
    "                  f'\\nPred={outputs.tolist()}'\n",
    "                  f'\\nLabel={_one_hot_label.tolist()}', flush=True)\n",
    "            acc_train_loss = 0.\n",
    "        train_step += 1\n",
    "        if train_step % eval_interval == 0:\n",
    "            model.eval()\n",
    "            rand_idx = randint(0, len(valid_dataset) - 501)\n",
    "            with torch.no_grad():\n",
    "                for _i, (__token, __label) in enumerate(valid_dataset[rand_idx: rand_idx + 500]):\n",
    "                    _one_hot_label = one_hot(__label).to(model.dtype).to(model.device)\n",
    "                    outputs = model.forward(encode(__token))\n",
    "                    loss = loss_function(outputs, _one_hot_label)\n",
    "                    acc_valid_loss += loss.item()\n",
    "                    if valid_step % valid_log_interval == 0 and valid_step > 0:\n",
    "                        writer.add_scalar('valid/loss', acc_valid_loss / valid_log_interval, valid_step)\n",
    "                        print(f'- Valid Step {valid_step} Loss {acc_valid_loss / valid_log_interval} \\\\'\n",
    "                              f'\\nToken={__token}'\n",
    "                              f'\\nPred={outputs.tolist()}'\n",
    "                              f'\\nLabel={_one_hot_label.tolist()}', flush=True)\n",
    "                        acc_valid_loss = 0.\n",
    "                    valid_step += 1\n",
    "            model.train()"
   ],
   "metadata": {
    "collapsed": false,
    "is_executing": true,
    "ExecuteTime": {
     "start_time": "2025-08-03T05:47:24.043567Z"
    }
   },
   "id": "9bb8c54cf0d8705c",
   "execution_count": null
  },
  {
   "cell_type": "code",
   "outputs": [],
   "source": [
    "model.eval()\n",
    "test_tokens = ['Mike', 'John', 'Smith', 'London', 'NYC', 'HongKong', 'China', 'South Africa', 'Korea']\n",
    "with torch.no_grad():\n",
    "    for _tok in test_tokens:\n",
    "        _dist = model.forward(encode(_tok))\n",
    "        print(f'Token={_tok}, Class={torch.argmax(_dist)}', flush=True)\n",
    "model.train()\n",
    "'Test finished.'"
   ],
   "metadata": {
    "collapsed": false
   },
   "id": "683889b3c2e6c744",
   "execution_count": null
  }
 ],
 "metadata": {
  "kernelspec": {
   "display_name": "Python 3",
   "language": "python",
   "name": "python3"
  },
  "language_info": {
   "codemirror_mode": {
    "name": "ipython",
    "version": 2
   },
   "file_extension": ".py",
   "mimetype": "text/x-python",
   "name": "python",
   "nbconvert_exporter": "python",
   "pygments_lexer": "ipython2",
   "version": "2.7.6"
  }
 },
 "nbformat": 4,
 "nbformat_minor": 5
}
