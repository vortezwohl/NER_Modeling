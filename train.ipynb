{
 "cells": [
  {
   "cell_type": "code",
   "outputs": [
    {
     "name": "stderr",
     "output_type": "stream",
     "text": [
      "[DEBUG] 2025-08-03 00:23:26,988 deeplotx.embedding : LongformerEncoder initialized on device: cuda.\n"
     ]
    }
   ],
   "source": [
    "from deeplotx import SoftmaxRegression, LongformerEncoder\n",
    "from util import NUM_CLASSES\n",
    "lf_encoder = LongformerEncoder(model_name_or_path='severinsimmler/xlm-roberta-longformer-base-16384')"
   ],
   "metadata": {
    "collapsed": false,
    "ExecuteTime": {
     "end_time": "2025-08-02T16:23:27.465519Z",
     "start_time": "2025-08-02T16:23:21.533885Z"
    }
   },
   "id": "f7fac354f36a88bc",
   "execution_count": 74
  },
  {
   "cell_type": "code",
   "outputs": [],
   "source": [
    "import torch\n",
    "from deeplotx.util import sha256\n",
    "from vortezwohl.cache import LRUCache\n",
    "\n",
    "CACHE = LRUCache(capacity=16384)\n",
    "\n",
    "def encode(text: str) -> torch.Tensor:\n",
    "    key = sha256(text)\n",
    "    if key in CACHE:\n",
    "        return CACHE[key]\n",
    "    emb = lf_encoder.encode(text, cls_only=False).mean(dim=-2, dtype=model.dtype)\n",
    "    CACHE[key] = emb\n",
    "    return emb"
   ],
   "metadata": {
    "collapsed": false,
    "ExecuteTime": {
     "end_time": "2025-08-02T16:23:27.481191Z",
     "start_time": "2025-08-02T16:23:27.468355Z"
    }
   },
   "id": "9eaf6bf7092cb96d",
   "execution_count": 75
  },
  {
   "cell_type": "code",
   "outputs": [],
   "source": [
    "import os\n",
    "import pandas as pd\n",
    "base_path = './data/multilingual_wikineural'\n",
    "languages = ['de', 'en', 'es', 'fr', 'it', 'nl', 'pl', 'pt', 'ru']\n",
    "train_data = dict()\n",
    "valid_data = dict()\n",
    "test_data = dict()\n",
    "for lang in languages:\n",
    "    train_data[lang] = pd.read_csv(os.path.join(base_path, f'train_{lang}.csv')).to_dict(orient='records')\n",
    "    valid_data[lang] = pd.read_csv(os.path.join(base_path, f'val_{lang}.csv')).to_dict(orient='records')\n",
    "    test_data[lang] = pd.read_csv(os.path.join(base_path, f'test_{lang}.csv')).to_dict(orient='records')"
   ],
   "metadata": {
    "collapsed": false,
    "ExecuteTime": {
     "end_time": "2025-08-02T16:23:35.584323Z",
     "start_time": "2025-08-02T16:23:27.484192Z"
    }
   },
   "id": "a7b644f0fd4d03be",
   "execution_count": 76
  },
  {
   "cell_type": "code",
   "outputs": [
    {
     "data": {
      "text/plain": "([(\"['Dieses' 'wiederum' 'basierte' 'auf' 'dem' 'gleichnamigen' 'Roman' 'von'\\n 'Noël' 'Calef' '.']\",\n   '[0 0 0 0 0 0 0 0 1 2 0]',\n   'de'),\n  (\"['Auf' 'Helgoland' 'starben' '2014' 'sieben' 'Jungvögel' 'und' 'fünf'\\n 'Altvögel' 'als' 'Verstrickungsopfer' '.']\",\n   '[0 5 0 0 0 0 0 0 0 0 0 0]',\n   'de')],\n [(\"['Die' 'Europameisterschaften' 'in' 'Dresden' 'schloss' 'sie' 'mit' 'dem'\\n 'zweiten' 'Platz' 'in' 'der' 'Gesamtwertung' 'ab' '.']\",\n   '[0 0 0 5 0 0 0 0 0 0 0 0 0 0 0]',\n   'de'),\n  ('[\\'Die\\' \\'Europameisterschaften\\' \\'im\\' \\'selben\\' \\'Jahr\\' \\'in\\' \\'Heerenveen\\'\\n \\'konnte\\' \\'sie\\' \\'mit\\' \\'dem\\' \\'Gewinn\\' \\'von\\' \\'vier\\' \\'Goldmedaillen\\' \\'(\\'\\n \\'1000\\' \\'\"\\' \\'m\\' \\',\\' \\'1500\\' \\'\"\\' \\'m\\' \\',\\' \\'3000\\' \\'\"\\' \\'m\\' \\',\\' \\'Gesamtwertung\\'\\n \\')\\' \\'deutlich\\' \\'für\\' \\'sich\\' \\'entscheiden\\' \\'.\\']',\n   '[0 0 0 0 0 0 5 0 0 0 0 0 0 0 0 0 0 0 0 0 0 0 0 0 0 0 0 0 0 0 0 0 0 0 0]',\n   'de')],\n [(\"['Er' 'erklärte' ',' 'dass' 'der' 'Allgemeine' 'Nationalkongress'\\n 'illegal' 'sei' ',' 'weil' 'das' 'Parlament' 'geduldet' 'hätte' ','\\n 'dass' 'Terroristen' 'in' 'Libyen' 'hätten' 'Fuß' 'fassen' 'können' '.']\",\n   '[0 0 0 0 0 0 0 0 0 0 0 0 0 0 0 0 0 0 0 5 0 0 0 0 0]',\n   'de'),\n  (\"['Die' 'Regierung' 'verhängte' 'daraufhin' 'eine' 'Flugverbotszone' 'über'\\n 'Bengasi' '.']\",\n   '[0 0 0 0 0 0 0 5 0]',\n   'de')])"
     },
     "execution_count": 77,
     "metadata": {},
     "output_type": "execute_result"
    }
   ],
   "source": [
    "total_train_data = []\n",
    "total_valid_data = []\n",
    "total_test_data = []\n",
    "for lang, data in train_data.items():\n",
    "    for d in data:\n",
    "        total_train_data.append((d['tokens'], d['ner_tags'], d['lang']))\n",
    "for lang, data in valid_data.items():\n",
    "    for d in data:\n",
    "        total_valid_data.append((d['tokens'], d['ner_tags'], d['lang']))\n",
    "for lang, data in test_data.items():\n",
    "    for d in data:\n",
    "        total_test_data.append((d['tokens'], d['ner_tags'], d['lang']))\n",
    "\n",
    "total_train_data[:2], total_valid_data[:2], total_test_data[:2]"
   ],
   "metadata": {
    "collapsed": false,
    "ExecuteTime": {
     "end_time": "2025-08-02T16:23:36.113598Z",
     "start_time": "2025-08-02T16:23:35.587324Z"
    }
   },
   "id": "57c633cc69971d5d",
   "execution_count": 77
  },
  {
   "cell_type": "code",
   "outputs": [],
   "source": [
    "from random import shuffle\n",
    "\n",
    "train_tokens = []\n",
    "valid_tokens = []\n",
    "test_tokens = []\n",
    "train_dataset = []\n",
    "valid_dataset = []\n",
    "test_dataset = []\n",
    "max_other_token_count = 55_000  # 55k\n",
    "other_token_count_for_each_lang = {\n",
    "    'de': 0,\n",
    "    'en': 0,\n",
    "    'es': 0,\n",
    "    'fr': 0,\n",
    "    'it': 0,\n",
    "    'nl': 0,\n",
    "    'pl': 0,\n",
    "    'pt': 0,\n",
    "    'ru': 0\n",
    "}\n",
    "\n",
    "def token_decode(s: str) -> list:\n",
    "    return [_.strip().replace(\"'\", '').replace('[', '').replace(']', '') for _ in s.replace(\"' '\", '||').replace('\\n', '||').split('||')]\n",
    "\n",
    "def label_decode(s: str) -> list:\n",
    "    _labels = []\n",
    "    label_lists = token_decode(s)\n",
    "    for label_ls in label_lists:\n",
    "        _labels.extend([int(_) for _ in label_ls.split(' ')])\n",
    "    return _labels\n",
    "\n",
    "for tokens, labels, lang in total_train_data:\n",
    "    tokens, labels = token_decode(tokens), label_decode(labels)\n",
    "    for i, token in enumerate(tokens):\n",
    "        if token in train_tokens:\n",
    "            continue\n",
    "        train_tokens.append(token)\n",
    "        if labels[i] > 0:\n",
    "            train_dataset.append((token, labels[i]))\n",
    "        else:\n",
    "            if other_token_count_for_each_lang[lang] < max_other_token_count:\n",
    "                other_token_count_for_each_lang[lang] += 1\n",
    "                train_dataset.append((token, labels[i]))\n",
    "\n",
    "for tokens, labels, lang in total_valid_data:\n",
    "    tokens, labels = token_decode(tokens), label_decode(labels)\n",
    "    for i, token in enumerate(tokens):\n",
    "        if token in valid_tokens:\n",
    "            continue\n",
    "        valid_tokens.append(token)\n",
    "        if labels[i] > 0:\n",
    "            valid_dataset.append((token, labels[i]))\n",
    "        else:\n",
    "            if other_token_count_for_each_lang[lang] < max_other_token_count:\n",
    "                other_token_count_for_each_lang[lang] += 1\n",
    "                valid_dataset.append((token, labels[i]))\n",
    "                \n",
    "                \n",
    "for tokens, labels, lang in total_test_data:\n",
    "    tokens, labels = token_decode(tokens), label_decode(labels)\n",
    "    for i, token in enumerate(tokens):\n",
    "        if token in test_tokens:\n",
    "            continue\n",
    "        test_tokens.append(token)\n",
    "        if labels[i] > 0:\n",
    "            test_dataset.append((token, labels[i]))\n",
    "        else:\n",
    "            if other_token_count_for_each_lang[lang] < max_other_token_count:\n",
    "                other_token_count_for_each_lang[lang] += 1\n",
    "                test_dataset.append((token, labels[i]))\n",
    "\n",
    "print('Dataset initialized', list(zip(train_dataset[:23], train_dataset[:23])))\n",
    "print(f'other_token_count_for_each_lang: {other_token_count_for_each_lang}')\n",
    "f'{len(train_dataset)} tokens to train in total.'"
   ],
   "metadata": {
    "collapsed": false,
    "is_executing": true
   },
   "id": "5f0bb7bde96b730c",
   "execution_count": null
  },
  {
   "cell_type": "markdown",
   "source": [
    "## 训练"
   ],
   "metadata": {
    "collapsed": false
   },
   "id": "90ca149f740c3ba0"
  },
  {
   "cell_type": "code",
   "outputs": [
    {
     "name": "stdout",
     "output_type": "stream",
     "text": [
      "===============================\n",
      "Model_Name: SoftmaxRegression\n",
      "In_Features: 768\n",
      "Out_Features: 9\n",
      "Device: cuda\n",
      "Dtype: torch.float32\n",
      "Total_Parameters: 49642017\n",
      "Trainable_Parameters: 49642017\n",
      "NonTrainable_Parameters: 0\n",
      "-------------------------------\n",
      "SoftmaxRegression(\n",
      "  (multi_head_ffn_layers): ModuleList(\n",
      "    (0-2): 3 x MultiHeadFeedForward(\n",
      "      (expand_proj): Linear(in_features=768, out_features=3072, bias=True)\n",
      "      (ffn_heads): ModuleList(\n",
      "        (0-3): 4 x FeedForward(\n",
      "          (ffn_layers): ModuleList(\n",
      "            (0-1): 2 x FeedForwardUnit(\n",
      "              (up_proj): Linear(in_features=768, out_features=960, bias=True)\n",
      "              (down_proj): Linear(in_features=960, out_features=768, bias=True)\n",
      "              (parametric_relu): PReLU(num_parameters=1)\n",
      "              (layer_norm): LayerNorm((768,), eps=1e-09, elementwise_affine=True)\n",
      "            )\n",
      "          )\n",
      "        )\n",
      "      )\n",
      "      (out_proj): Linear(in_features=3072, out_features=768, bias=True)\n",
      "    )\n",
      "  )\n",
      "  (out_proj): Linear(in_features=768, out_features=9, bias=True)\n",
      ")\n",
      "===============================\n"
     ]
    }
   ],
   "source": [
    "model = SoftmaxRegression(input_dim=768, output_dim=NUM_CLASSES, num_heads=4, num_layers=3, expansion_factor=1.25, bias=True, dropout_rate=0.2, head_layers=2)\n",
    "print(model)"
   ],
   "metadata": {
    "collapsed": false,
    "ExecuteTime": {
     "end_time": "2025-08-02T16:54:02.063906Z",
     "start_time": "2025-08-02T16:54:02.027848Z"
    }
   },
   "id": "6b1a645e6818b884",
   "execution_count": 99
  },
  {
   "cell_type": "code",
   "outputs": [],
   "source": [
    "# train\n",
    "from torch import nn, optim\n",
    "from torch.utils.tensorboard import SummaryWriter"
   ],
   "metadata": {
    "collapsed": false,
    "ExecuteTime": {
     "end_time": "2025-08-02T16:48:03.088249Z",
     "start_time": "2025-08-02T16:48:03.074428Z"
    }
   },
   "id": "4bfa8215ab0135b",
   "execution_count": 96
  },
  {
   "cell_type": "code",
   "outputs": [],
   "source": [
    "train_step = 0\n",
    "valid_step = 0\n",
    "writer = SummaryWriter()\n",
    "\n",
    "acc_train_loss = 0.\n",
    "acc_valid_loss = 0.\n",
    "eval_interval = 2000\n",
    "log_interval = 200\n",
    "valid_log_interval = 50"
   ],
   "metadata": {
    "collapsed": false,
    "ExecuteTime": {
     "end_time": "2025-08-02T16:56:28.188054Z",
     "start_time": "2025-08-02T16:56:28.174041Z"
    }
   },
   "id": "26fe594efd09342c",
   "execution_count": 100
  },
  {
   "cell_type": "code",
   "outputs": [
    {
     "name": "stdout",
     "output_type": "stream",
     "text": [
      "Dataset shuffled [(('Parco', 5), ('Parco', 5)), (('Horemheb', 1), ('Horemheb', 1)), (('hiszpański', 0), ('hiszpański', 0)), (('australische', 7), ('australische', 7)), (('Ducum', 8), ('Ducum', 8)), (('.', 1), ('.', 1)), (('That \"\" 70', 7), ('That \"\" 70', 7)), (('Uffenbach', 1), ('Uffenbach', 1)), (('2', 8), ('2', 8)), (('Short', 8), ('Short', 8)), (('Grenville \"s\" ministry', 1), ('Grenville \"s\" ministry', 1)), (('al-Chums', 5), ('al-Chums', 5)), (('Bahia', 5), ('Bahia', 5)), (('Marc', 1), ('Marc', 1)), (('Hitchcock', 2), ('Hitchcock', 2)), (('Cross', 1), ('Cross', 1)), (('Joseph', 1), ('Joseph', 1)), (('CA', 3), ('CA', 3)), (('McCartney', 2), ('McCartney', 2)), (('Emmen', 4), ('Emmen', 4)), (('Miami', 3), ('Miami', 3)), (('.', 1), ('.', 1)), (('Herat', 5), ('Herat', 5))]\n"
     ]
    }
   ],
   "source": [
    "shuffle(train_dataset)\n",
    "shuffle(valid_dataset)\n",
    "shuffle(test_dataset)\n",
    "print('Dataset shuffled', list(zip(train_dataset[:23], train_dataset[:23])))"
   ],
   "metadata": {
    "collapsed": false,
    "ExecuteTime": {
     "end_time": "2025-08-02T16:56:30.645685Z",
     "start_time": "2025-08-02T16:56:28.191063Z"
    }
   },
   "id": "778629f86da4c887",
   "execution_count": 101
  },
  {
   "cell_type": "code",
   "outputs": [
    {
     "name": "stdout",
     "output_type": "stream",
     "text": [
      "- Train Step 200 Loss 37.720984592437745 \\\n",
      "Token=Sappho\n",
      "Pred=[0.10309843719005585, 0.06281554698944092, 0.1830260306596756, 0.025760382413864136, 0.03563135489821434, 0.4473961591720581, 0.030544010922312737, 0.0492185577750206, 0.06250952929258347]\n",
      "Label=[0.0, 1.0, 0.0, 0.0, 0.0, 0.0, 0.0, 0.0, 0.0]\n",
      "- Train Step 400 Loss 37.16333711624146 \\\n",
      "Token=the\n",
      "Pred=[0.03310875594615936, 0.020944811403751373, 0.036317843943834305, 0.0073010982014238834, 0.007972911931574345, 0.8601081371307373, 0.008484329096972942, 0.010676349513232708, 0.015085704624652863]\n",
      "Label=[0.0, 0.0, 0.0, 0.0, 0.0, 0.0, 0.0, 0.0, 1.0]\n",
      "- Train Step 600 Loss 36.89213706970215 \\\n",
      "Token=Estados\n",
      "Pred=[0.16568142175674438, 0.052781667560338974, 0.05279934033751488, 0.012112121097743511, 0.014443262480199337, 0.6478871703147888, 0.013667537830770016, 0.016477560624480247, 0.02414986491203308]\n",
      "Label=[0.0, 0.0, 0.0, 0.0, 0.0, 1.0, 0.0, 0.0, 0.0]\n"
     ]
    },
    {
     "ename": "KeyboardInterrupt",
     "evalue": "",
     "output_type": "error",
     "traceback": [
      "\u001B[1;31m---------------------------------------------------------------------------\u001B[0m",
      "\u001B[1;31mKeyboardInterrupt\u001B[0m                         Traceback (most recent call last)",
      "Cell \u001B[1;32mIn[102], line 20\u001B[0m\n\u001B[0;32m     18\u001B[0m acc_train_loss \u001B[38;5;241m+\u001B[39m\u001B[38;5;241m=\u001B[39m loss\u001B[38;5;241m.\u001B[39mitem()\n\u001B[0;32m     19\u001B[0m optimizer\u001B[38;5;241m.\u001B[39mzero_grad()\n\u001B[1;32m---> 20\u001B[0m \u001B[43mloss\u001B[49m\u001B[38;5;241;43m.\u001B[39;49m\u001B[43mbackward\u001B[49m\u001B[43m(\u001B[49m\u001B[43m)\u001B[49m\n\u001B[0;32m     21\u001B[0m optimizer\u001B[38;5;241m.\u001B[39mstep()\n\u001B[0;32m     22\u001B[0m \u001B[38;5;28;01mif\u001B[39;00m train_step \u001B[38;5;241m%\u001B[39m log_interval \u001B[38;5;241m==\u001B[39m \u001B[38;5;241m0\u001B[39m \u001B[38;5;129;01mand\u001B[39;00m train_step \u001B[38;5;241m>\u001B[39m \u001B[38;5;241m0\u001B[39m:\n",
      "File \u001B[1;32mD:\\large_project\\NER_Modeling\\.venv\\lib\\site-packages\\torch\\_tensor.py:648\u001B[0m, in \u001B[0;36mTensor.backward\u001B[1;34m(self, gradient, retain_graph, create_graph, inputs)\u001B[0m\n\u001B[0;32m    638\u001B[0m \u001B[38;5;28;01mif\u001B[39;00m has_torch_function_unary(\u001B[38;5;28mself\u001B[39m):\n\u001B[0;32m    639\u001B[0m     \u001B[38;5;28;01mreturn\u001B[39;00m handle_torch_function(\n\u001B[0;32m    640\u001B[0m         Tensor\u001B[38;5;241m.\u001B[39mbackward,\n\u001B[0;32m    641\u001B[0m         (\u001B[38;5;28mself\u001B[39m,),\n\u001B[1;32m   (...)\u001B[0m\n\u001B[0;32m    646\u001B[0m         inputs\u001B[38;5;241m=\u001B[39minputs,\n\u001B[0;32m    647\u001B[0m     )\n\u001B[1;32m--> 648\u001B[0m \u001B[43mtorch\u001B[49m\u001B[38;5;241;43m.\u001B[39;49m\u001B[43mautograd\u001B[49m\u001B[38;5;241;43m.\u001B[39;49m\u001B[43mbackward\u001B[49m\u001B[43m(\u001B[49m\n\u001B[0;32m    649\u001B[0m \u001B[43m    \u001B[49m\u001B[38;5;28;43mself\u001B[39;49m\u001B[43m,\u001B[49m\u001B[43m \u001B[49m\u001B[43mgradient\u001B[49m\u001B[43m,\u001B[49m\u001B[43m \u001B[49m\u001B[43mretain_graph\u001B[49m\u001B[43m,\u001B[49m\u001B[43m \u001B[49m\u001B[43mcreate_graph\u001B[49m\u001B[43m,\u001B[49m\u001B[43m \u001B[49m\u001B[43minputs\u001B[49m\u001B[38;5;241;43m=\u001B[39;49m\u001B[43minputs\u001B[49m\n\u001B[0;32m    650\u001B[0m \u001B[43m\u001B[49m\u001B[43m)\u001B[49m\n",
      "File \u001B[1;32mD:\\large_project\\NER_Modeling\\.venv\\lib\\site-packages\\torch\\autograd\\__init__.py:353\u001B[0m, in \u001B[0;36mbackward\u001B[1;34m(tensors, grad_tensors, retain_graph, create_graph, grad_variables, inputs)\u001B[0m\n\u001B[0;32m    348\u001B[0m     retain_graph \u001B[38;5;241m=\u001B[39m create_graph\n\u001B[0;32m    350\u001B[0m \u001B[38;5;66;03m# The reason we repeat the same comment below is that\u001B[39;00m\n\u001B[0;32m    351\u001B[0m \u001B[38;5;66;03m# some Python versions print out the first line of a multi-line function\u001B[39;00m\n\u001B[0;32m    352\u001B[0m \u001B[38;5;66;03m# calls in the traceback and some print out the last line\u001B[39;00m\n\u001B[1;32m--> 353\u001B[0m \u001B[43m_engine_run_backward\u001B[49m\u001B[43m(\u001B[49m\n\u001B[0;32m    354\u001B[0m \u001B[43m    \u001B[49m\u001B[43mtensors\u001B[49m\u001B[43m,\u001B[49m\n\u001B[0;32m    355\u001B[0m \u001B[43m    \u001B[49m\u001B[43mgrad_tensors_\u001B[49m\u001B[43m,\u001B[49m\n\u001B[0;32m    356\u001B[0m \u001B[43m    \u001B[49m\u001B[43mretain_graph\u001B[49m\u001B[43m,\u001B[49m\n\u001B[0;32m    357\u001B[0m \u001B[43m    \u001B[49m\u001B[43mcreate_graph\u001B[49m\u001B[43m,\u001B[49m\n\u001B[0;32m    358\u001B[0m \u001B[43m    \u001B[49m\u001B[43minputs\u001B[49m\u001B[43m,\u001B[49m\n\u001B[0;32m    359\u001B[0m \u001B[43m    \u001B[49m\u001B[43mallow_unreachable\u001B[49m\u001B[38;5;241;43m=\u001B[39;49m\u001B[38;5;28;43;01mTrue\u001B[39;49;00m\u001B[43m,\u001B[49m\n\u001B[0;32m    360\u001B[0m \u001B[43m    \u001B[49m\u001B[43maccumulate_grad\u001B[49m\u001B[38;5;241;43m=\u001B[39;49m\u001B[38;5;28;43;01mTrue\u001B[39;49;00m\u001B[43m,\u001B[49m\n\u001B[0;32m    361\u001B[0m \u001B[43m\u001B[49m\u001B[43m)\u001B[49m\n",
      "File \u001B[1;32mD:\\large_project\\NER_Modeling\\.venv\\lib\\site-packages\\torch\\autograd\\graph.py:824\u001B[0m, in \u001B[0;36m_engine_run_backward\u001B[1;34m(t_outputs, *args, **kwargs)\u001B[0m\n\u001B[0;32m    822\u001B[0m     unregister_hooks \u001B[38;5;241m=\u001B[39m _register_logging_hooks_on_whole_graph(t_outputs)\n\u001B[0;32m    823\u001B[0m \u001B[38;5;28;01mtry\u001B[39;00m:\n\u001B[1;32m--> 824\u001B[0m     \u001B[38;5;28;01mreturn\u001B[39;00m Variable\u001B[38;5;241m.\u001B[39m_execution_engine\u001B[38;5;241m.\u001B[39mrun_backward(  \u001B[38;5;66;03m# Calls into the C++ engine to run the backward pass\u001B[39;00m\n\u001B[0;32m    825\u001B[0m         t_outputs, \u001B[38;5;241m*\u001B[39margs, \u001B[38;5;241m*\u001B[39m\u001B[38;5;241m*\u001B[39mkwargs\n\u001B[0;32m    826\u001B[0m     )  \u001B[38;5;66;03m# Calls into the C++ engine to run the backward pass\u001B[39;00m\n\u001B[0;32m    827\u001B[0m \u001B[38;5;28;01mfinally\u001B[39;00m:\n\u001B[0;32m    828\u001B[0m     \u001B[38;5;28;01mif\u001B[39;00m attach_logging_hooks:\n",
      "\u001B[1;31mKeyboardInterrupt\u001B[0m: "
     ]
    }
   ],
   "source": [
    "from random import randint\n",
    "from util import one_hot\n",
    "\n",
    "elastic_net_param = {\n",
    "    'alpha': 2e-4,\n",
    "    'rho': 0.2\n",
    "}\n",
    "learning_rate = 2e-6\n",
    "num_epochs = 1500\n",
    "loss_function = nn.CrossEntropyLoss()\n",
    "optimizer = optim.Adam(model.parameters(), lr=learning_rate)\n",
    "for epoch in range(num_epochs):\n",
    "    model.train()\n",
    "    for i, (_token, _label) in enumerate(train_dataset):\n",
    "        _one_hot_label = one_hot(_label).to(model.dtype).to(model.device)\n",
    "        outputs = model.forward(encode(_token))\n",
    "        loss = loss_function(outputs, _one_hot_label) + model.elastic_net(alpha=elastic_net_param['alpha'], rho=elastic_net_param['rho'])\n",
    "        acc_train_loss += loss.item()\n",
    "        optimizer.zero_grad()\n",
    "        loss.backward()\n",
    "        optimizer.step()\n",
    "        if train_step % log_interval == 0 and train_step > 0:\n",
    "            writer.add_scalar('train/loss', acc_train_loss / log_interval, train_step)\n",
    "            print(f'- Train Step {train_step} Loss {acc_train_loss / log_interval} \\\\'\n",
    "                  f'\\nToken={_token}'\n",
    "                  f'\\nPred={outputs.tolist()}'\n",
    "                  f'\\nLabel={_one_hot_label.tolist()}', flush=True)\n",
    "            acc_train_loss = 0.\n",
    "        train_step += 1\n",
    "        if train_step % eval_interval == 0:\n",
    "            model.eval()\n",
    "            rand_idx = randint(0, len(valid_dataset) - 501)\n",
    "            with torch.no_grad():\n",
    "                for _i, (__token, __label) in enumerate(valid_dataset[rand_idx: rand_idx + 500]):\n",
    "                    _one_hot_label = one_hot(__label).to(model.dtype).to(model.device)\n",
    "                    outputs = model.forward(encode(__token))\n",
    "                    loss = loss_function(outputs, _one_hot_label)\n",
    "                    acc_valid_loss += loss.item()\n",
    "                    if valid_step % valid_log_interval == 0 and valid_step > 0:\n",
    "                        writer.add_scalar('valid/loss', acc_valid_loss / valid_log_interval, valid_step)\n",
    "                        print(f'- Valid Step {valid_step} Loss {acc_valid_loss / valid_log_interval} \\\\'\n",
    "                              f'\\nToken={__token}'\n",
    "                              f'\\nPred={outputs.tolist()}'\n",
    "                              f'\\nLabel={_one_hot_label.tolist()}', flush=True)\n",
    "                        acc_valid_loss = 0.\n",
    "                    valid_step += 1\n",
    "            model.train()"
   ],
   "metadata": {
    "collapsed": false,
    "ExecuteTime": {
     "end_time": "2025-08-02T16:58:22.518189Z",
     "start_time": "2025-08-02T16:56:30.647911Z"
    }
   },
   "id": "9bb8c54cf0d8705c",
   "execution_count": 102
  },
  {
   "cell_type": "code",
   "outputs": [],
   "source": [
    "model.eval()\n",
    "test_tokens = ['Mike', 'John', 'Smith', 'London', 'NYC', 'HongKong', 'China', 'South Africa', 'Korea']\n",
    "with torch.no_grad():\n",
    "    for _tok in test_tokens:\n",
    "        _dist = model.forward(encode(_tok))\n",
    "        print(f'Token={_tok}, Class={torch.argmax(_dist)}', flush=True)\n",
    "model.train()\n",
    "'Test finished.'"
   ],
   "metadata": {
    "collapsed": false
   },
   "id": "683889b3c2e6c744",
   "execution_count": null
  }
 ],
 "metadata": {
  "kernelspec": {
   "display_name": "Python 3",
   "language": "python",
   "name": "python3"
  },
  "language_info": {
   "codemirror_mode": {
    "name": "ipython",
    "version": 2
   },
   "file_extension": ".py",
   "mimetype": "text/x-python",
   "name": "python",
   "nbconvert_exporter": "python",
   "pygments_lexer": "ipython2",
   "version": "2.7.6"
  }
 },
 "nbformat": 4,
 "nbformat_minor": 5
}
